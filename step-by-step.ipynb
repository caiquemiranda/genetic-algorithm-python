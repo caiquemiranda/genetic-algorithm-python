{
 "cells": [
  {
   "cell_type": "markdown",
   "metadata": {},
   "source": [
    "### Problema\n",
    "\n",
    "Em uma trasnportadora com caminhoes de espaço interno do baú de 3m³ temos que alocar produtos que em sua soma total ocupam 4.79m³, qual melhor alocação de produtos para gerar o maior lucro, tendo em mente ocupar os caminhão com os produtos com maior lucro?"
   ]
  },
  {
   "cell_type": "code",
   "execution_count": 151,
   "metadata": {},
   "outputs": [],
   "source": [
    "from random import random"
   ]
  },
  {
   "cell_type": "code",
   "execution_count": 152,
   "metadata": {},
   "outputs": [],
   "source": [
    "class Produto():\n",
    "    def __init__(self, nome, espaco, valor):\n",
    "        self.nome = nome\n",
    "        self.espaco = espaco\n",
    "        self.valor = valor       "
   ]
  },
  {
   "cell_type": "code",
   "execution_count": 153,
   "metadata": {},
   "outputs": [],
   "source": [
    "lista_produtos = []\n",
    "lista_produtos.append(Produto('Geladeira Dako', 0.751, 999.90))\n",
    "lista_produtos.append(Produto('Iphone 6', 0.0000899, 2911.12))\n",
    "lista_produtos.append(Produto('TV 55', 0.400, 4346.99))\n",
    "lista_produtos.append(Produto('TV 50', 0.290, 3999.90))\n",
    "lista_produtos.append(Produto('TV 42', 0.200, 2999.90))\n",
    "lista_produtos.append(Produto('Notebook Dell', 0.00350, 2499.90))\n",
    "lista_produtos.append(Produto('Ventilador Panasonic', 0.496, 199.90))\n",
    "lista_produtos.append(Produto('Microondas Eletrolux', 0.0424, 308.66))\n",
    "lista_produtos.append(Produto('Microondas LG', 0.0544, 429.90))\n",
    "lista_produtos.append(Produto('Microondas Panasonic', 0.0319, 299.29))\n",
    "lista_produtos.append(Produto('Geladeira Brastemp', 0.635, 849.00))\n",
    "lista_produtos.append(Produto('Geladeira Consul', 0.870, 1199.89))\n",
    "lista_produtos.append(Produto('Notebook Lenovo', 0.498, 1999.90))\n",
    "lista_produtos.append(Produto('Notebook Asus', 0.527, 3999.90))"
   ]
  },
  {
   "cell_type": "code",
   "execution_count": 154,
   "metadata": {},
   "outputs": [
    {
     "name": "stdout",
     "output_type": "stream",
     "text": [
      "<__main__.Produto object at 0x000002305CAD37C0>\n",
      "<__main__.Produto object at 0x000002305CAD3970>\n",
      "<__main__.Produto object at 0x000002305CAD35E0>\n",
      "<__main__.Produto object at 0x000002305CAD33D0>\n",
      "<__main__.Produto object at 0x000002305CAD3F40>\n",
      "<__main__.Produto object at 0x000002305CAD3880>\n",
      "<__main__.Produto object at 0x000002305CAD39A0>\n",
      "<__main__.Produto object at 0x000002305CAD3CA0>\n",
      "<__main__.Produto object at 0x000002305CAD3850>\n",
      "<__main__.Produto object at 0x000002305CAD3190>\n",
      "<__main__.Produto object at 0x000002305CAD3DF0>\n",
      "<__main__.Produto object at 0x000002305CAD3700>\n",
      "<__main__.Produto object at 0x000002305CAD31C0>\n",
      "<__main__.Produto object at 0x000002305CAD3C70>\n"
     ]
    }
   ],
   "source": [
    "for produto in lista_produtos:\n",
    "    print(produto)"
   ]
  },
  {
   "cell_type": "code",
   "execution_count": 155,
   "metadata": {},
   "outputs": [],
   "source": [
    "class Individuo():\n",
    "    def __init__(self, espacos, valores, limite_esoacos, geracao=0):\n",
    "        self.espacos = espacos\n",
    "        self.valores = valores\n",
    "        self.limite_espacos = limite_esoacos\n",
    "        self.geracao = geracao\n",
    "        self.nota_avaliacao = 0\n",
    "        self.espaco_usado = 0\n",
    "        self.cromossomo = []\n",
    "\n",
    "        for i in range(len(espacos)):\n",
    "            if random() < 0.5:\n",
    "                self.cromossomo.append('0')\n",
    "            else:\n",
    "                self.cromossomo.append('1')\n",
    "    \n",
    "    def avaliacao(self):\n",
    "        nota = 0 \n",
    "        soma_espacos = 0\n",
    "        for i in range(len(self.cromossomo)):\n",
    "            if self.cromossomo[i] == '1':\n",
    "                nota += self.valores[i]\n",
    "                soma_espacos += self.espacos[i]\n",
    "        \n",
    "        if soma_espacos > self.limite_espacos:\n",
    "            nota = 1\n",
    "\n",
    "        self.nota_avaliacao = nota\n",
    "        self.espaco_usado = soma_espacos\n",
    "    \n",
    "    def crossover(self, outro_individuo):\n",
    "        corte = round(random() * len(self.cromossomo))\n",
    "        \n",
    "        filho1 = outro_individuo.cromossomo[0:corte] + self.cromossomo[corte::]\n",
    "        filho2 = self.cromossomo[0:corte] + outro_individuo.cromossomo[corte::]\n",
    "\n",
    "        filhos = [Individuo(self.espacos, self.valores, self.limite_espacos, self.geracao + 1),\n",
    "                  Individuo(self.espacos, self.valores, self.limite_espacos, self.geracao + 1)]\n",
    "\n",
    "        filhos[0].cromossomo = filho1\n",
    "        filhos[1].cromossomo = filho2\n",
    "        \n",
    "        return filhos\n",
    "\n",
    "    def mutacao(self, taxa_mutacao):\n",
    "        #print('Antes %s' % self.cromossomo)\n",
    "        for i in range(len(self.cromossomo)):\n",
    "            if random() < taxa_mutacao:\n",
    "                if self.cromossomo[i] =='1':\n",
    "                    self.cromossomo[i] = '0'\n",
    "                else:\n",
    "                    self.cromossomo[i] = '1'\n",
    "        \n",
    "        #print('Depois %s' % self.cromossomo)\n",
    "        return self\n"
   ]
  },
  {
   "cell_type": "code",
   "execution_count": 156,
   "metadata": {},
   "outputs": [],
   "source": [
    "class AlgoritimoGenetico():\n",
    "    def __init__(self, tamanho_populacao):\n",
    "        self.tamanho_populacao = tamanho_populacao\n",
    "        self.populacao = []\n",
    "        self.geracao = 0\n",
    "        self.melhor_solucao = 0\n",
    "\n",
    "    def inicializa_populacao(self, espacos, valores, limite_espacos):\n",
    "        for i in range(self.tamanho_populacao):\n",
    "            self.populacao.append(Individuo(espacos, valores, limite_espacos))\n",
    "        self.melhor_solucao = self.populacao[0]\n",
    "    \n",
    "    def ordena_populacao(self):\n",
    "        self.populacao = sorted(self.populacao, \n",
    "                                key = lambda populacao: populacao.nota_avaliacao, \n",
    "                                reverse=True)\n",
    "\n",
    "    def melhor_individuo(self, individuo):\n",
    "        if individuo.nota_avaliacao > self.melhor_solucao.nota_avaliacao:\n",
    "            self.melhor_solucao = individuo\n",
    "    \n",
    "    def soma_avaliacoes(self):\n",
    "        soma = 0 \n",
    "        for individuo in self.populacao:\n",
    "            soma += individuo.nota_avaliacao\n",
    "        \n",
    "        return soma\n",
    "    \n",
    "    def seleciona_pai(self, soma_avaliacao):\n",
    "        pai = -1\n",
    "        valor_sorteado = random()*soma_avaliacao\n",
    "        soma = 0 \n",
    "        i = 0 \n",
    "        while i < len(self.populacao) and soma < valor_sorteado:\n",
    "            soma += self.populacao[i].nota_avaliacao\n",
    "            pai += 1 \n",
    "            i += 1\n",
    "        \n",
    "        return pai\n",
    "    \n",
    "    def visualiza_geracao(self):\n",
    "        melhor = self.populacao[0]\n",
    "        print('G:%s  -> Valor %s Espaço: %s Cromossomo: %s ' % (self.populacao[0].geracao,\n",
    "                                                                melhor.nota_avaliacao,\n",
    "                                                                melhor.espaco_usado, \n",
    "                                                                melhor.cromossomo))\n",
    "        \n",
    "    def resolver(self, taxa_mutacao, numero_geracoes, espacos, valores, limite_espacos):\n",
    "        self.inicializa_populacao(espacos, valores, limite_espacos)\n",
    "\n",
    "        for individuo in self.populacao:\n",
    "            individuo.avaliacao()\n",
    "        \n",
    "        self.ordena_populacao()\n",
    "\n",
    "        self.visualiza_geracao()\n",
    "\n",
    "        for geracao in range(numero_geracoes):\n",
    "            soma_avaliacao = self.soma_avaliacoes()\n",
    "            nova_populacao = []\n",
    "\n",
    "            for individuo_gerados in range(0, self.tamanho_populacao, 2):\n",
    "                pai1 = self.seleciona_pai(soma_avaliacao)\n",
    "                pai2 = self.seleciona_pai(soma_avaliacao)\n",
    "\n",
    "                filhos = self.populacao[pai1].crossover(self.populacao[pai2])\n",
    "\n",
    "                nova_populacao.append(filhos[0].mutacao(taxa_mutacao))\n",
    "                nova_populacao.append(filhos[1].mutacao(taxa_mutacao))\n",
    "\n",
    "            self.populacao = list(nova_populacao)\n",
    "            \n",
    "            for individuo in self.populacao:\n",
    "                individuo.avaliacao()\n",
    "\n",
    "            self.ordena_populacao()\n",
    "\n",
    "            self.visualiza_geracao()\n",
    "\n",
    "            melhor = self.populacao[0]\n",
    "            self.melhor_individuo(melhor)\n",
    "\n",
    "        print('\\n Melhor Solução --> G: %s Valor: %s Espaço: %s Cromossomo: %s' % \n",
    "                (self.melhor_solucao.geracao,\n",
    "                 self.melhor_solucao.nota_avaliacao,\n",
    "                 self.melhor_solucao.espaco_usado,\n",
    "                 self.melhor_solucao.cromossomo))\n",
    "        \n",
    "        return melhor.cromossomo\n"
   ]
  },
  {
   "cell_type": "code",
   "execution_count": 157,
   "metadata": {},
   "outputs": [],
   "source": [
    "espacos = []\n",
    "valores = []\n",
    "nomes = []\n",
    "for produto in lista_produtos:\n",
    "    espacos.append(produto.espaco)\n",
    "    valores.append(produto.valor)\n",
    "    nomes.append(produto.nome)"
   ]
  },
  {
   "cell_type": "code",
   "execution_count": 158,
   "metadata": {},
   "outputs": [
    {
     "name": "stdout",
     "output_type": "stream",
     "text": [
      "[0.751, 8.99e-05, 0.4, 0.29, 0.2, 0.0035, 0.496, 0.0424, 0.0544, 0.0319, 0.635, 0.87, 0.498, 0.527]\n",
      "[999.9, 2911.12, 4346.99, 3999.9, 2999.9, 2499.9, 199.9, 308.66, 429.9, 299.29, 849.0, 1199.89, 1999.9, 3999.9]\n",
      "['Geladeira Dako', 'Iphone 6', 'TV 55', 'TV 50', 'TV 42', 'Notebook Dell', 'Ventilador Panasonic', 'Microondas Eletrolux', 'Microondas LG', 'Microondas Panasonic', 'Geladeira Brastemp', 'Geladeira Consul', 'Notebook Lenovo', 'Notebook Asus']\n"
     ]
    },
    {
     "data": {
      "text/plain": [
       "(None, None, None)"
      ]
     },
     "execution_count": 158,
     "metadata": {},
     "output_type": "execute_result"
    }
   ],
   "source": [
    "print(espacos), print(valores), print(nomes)"
   ]
  },
  {
   "cell_type": "code",
   "execution_count": 159,
   "metadata": {},
   "outputs": [],
   "source": [
    "limite = 3\n",
    "\n",
    "individuo1 = Individuo(espacos, valores, limite)"
   ]
  },
  {
   "cell_type": "code",
   "execution_count": 160,
   "metadata": {},
   "outputs": [
    {
     "name": "stdout",
     "output_type": "stream",
     "text": [
      "Espaços = [0.751, 8.99e-05, 0.4, 0.29, 0.2, 0.0035, 0.496, 0.0424, 0.0544, 0.0319, 0.635, 0.87, 0.498, 0.527]\n",
      "Valores = [999.9, 2911.12, 4346.99, 3999.9, 2999.9, 2499.9, 199.9, 308.66, 429.9, 299.29, 849.0, 1199.89, 1999.9, 3999.9]\n",
      "Cromossomo = ['1', '0', '1', '1', '1', '0', '0', '1', '0', '0', '0', '0', '1', '1']\n"
     ]
    }
   ],
   "source": [
    "print('Espaços = %s' % str(individuo1.espacos))\n",
    "print('Valores = %s' % str(individuo1.valores))\n",
    "print('Cromossomo = %s' % str(individuo1.cromossomo))"
   ]
  },
  {
   "cell_type": "code",
   "execution_count": 161,
   "metadata": {},
   "outputs": [
    {
     "name": "stdout",
     "output_type": "stream",
     "text": [
      "Componentes da carga\n",
      "Nome: Geladeira Dako R$ 999.9 \n",
      "Nome: TV 55 R$ 4346.99 \n",
      "Nome: TV 50 R$ 3999.9 \n",
      "Nome: TV 42 R$ 2999.9 \n",
      "Nome: Microondas Eletrolux R$ 308.66 \n",
      "Nome: Notebook Lenovo R$ 1999.9 \n",
      "Nome: Notebook Asus R$ 3999.9 \n"
     ]
    }
   ],
   "source": [
    "print('Componentes da carga')\n",
    "for i in range(len(lista_produtos)):\n",
    "    if individuo1.cromossomo[i] == '1':\n",
    "        print('Nome: %s R$ %s ' % (lista_produtos[i].nome, lista_produtos[i].valor))"
   ]
  },
  {
   "cell_type": "code",
   "execution_count": 162,
   "metadata": {},
   "outputs": [],
   "source": [
    "individuo1.avaliacao()"
   ]
  },
  {
   "cell_type": "code",
   "execution_count": 163,
   "metadata": {},
   "outputs": [
    {
     "name": "stdout",
     "output_type": "stream",
     "text": [
      "Nota: 18655.149999999998 \n",
      "Espaço usado: 2.7084 \n"
     ]
    }
   ],
   "source": [
    "print('Nota: %s ' % (individuo1.nota_avaliacao))\n",
    "print('Espaço usado: %s ' % (individuo1.espaco_usado))"
   ]
  },
  {
   "cell_type": "code",
   "execution_count": 164,
   "metadata": {},
   "outputs": [
    {
     "name": "stdout",
     "output_type": "stream",
     "text": [
      "\n",
      "Individuo 1\n",
      "Componentes da carga\n",
      "Nome: Geladeira Dako R$ 999.9 \n",
      "Nome: TV 55 R$ 4346.99 \n",
      "Nome: TV 50 R$ 3999.9 \n",
      "Nome: TV 42 R$ 2999.9 \n",
      "Nome: Microondas Eletrolux R$ 308.66 \n",
      "Nome: Notebook Lenovo R$ 1999.9 \n",
      "Nome: Notebook Asus R$ 3999.9 \n",
      "Nota: 18655.149999999998 \n",
      "Espaço usado: 2.7084 \n"
     ]
    }
   ],
   "source": [
    "print('\\nIndividuo 1')\n",
    "print('Componentes da carga')\n",
    "for i in range(len(lista_produtos)):\n",
    "    if individuo1.cromossomo[i] == '1':\n",
    "        print('Nome: %s R$ %s ' % (lista_produtos[i].nome, lista_produtos[i].valor))\n",
    "individuo1.avaliacao()\n",
    "print('Nota: %s ' % (individuo1.nota_avaliacao))\n",
    "print('Espaço usado: %s ' % (individuo1.espaco_usado))"
   ]
  },
  {
   "cell_type": "code",
   "execution_count": 165,
   "metadata": {},
   "outputs": [],
   "source": [
    "individuo2 = Individuo(espacos, valores, limite)"
   ]
  },
  {
   "cell_type": "code",
   "execution_count": 166,
   "metadata": {},
   "outputs": [],
   "source": [
    "individuo2.avaliacao()"
   ]
  },
  {
   "cell_type": "code",
   "execution_count": 167,
   "metadata": {},
   "outputs": [
    {
     "name": "stdout",
     "output_type": "stream",
     "text": [
      "\n",
      "Individuo 2\n",
      "Componentes da carga\n",
      "Nome: Microondas Eletrolux R$ 308.66 \n",
      "Nome: Microondas Panasonic R$ 299.29 \n",
      "Nome: Geladeira Brastemp R$ 849.0 \n",
      "Nome: Notebook Lenovo R$ 1999.9 \n",
      "Nota: 3456.8500000000004 \n",
      "Espaço usado: 1.2073 \n"
     ]
    }
   ],
   "source": [
    "print('\\nIndividuo 2')\n",
    "print('Componentes da carga')\n",
    "for i in range(len(lista_produtos)):\n",
    "    if individuo2.cromossomo[i] == '1':\n",
    "        print('Nome: %s R$ %s ' % (lista_produtos[i].nome, lista_produtos[i].valor))\n",
    "individuo1.avaliacao()\n",
    "print('Nota: %s ' % (individuo2.nota_avaliacao))\n",
    "print('Espaço usado: %s ' % (individuo2.espaco_usado))"
   ]
  },
  {
   "cell_type": "code",
   "execution_count": 168,
   "metadata": {},
   "outputs": [
    {
     "data": {
      "text/plain": [
       "<__main__.Individuo at 0x2305c7c4850>"
      ]
     },
     "execution_count": 168,
     "metadata": {},
     "output_type": "execute_result"
    }
   ],
   "source": [
    "individuo1.mutacao(0.05)\n",
    "individuo2.mutacao(0.05)"
   ]
  },
  {
   "cell_type": "code",
   "execution_count": 169,
   "metadata": {},
   "outputs": [
    {
     "name": "stdout",
     "output_type": "stream",
     "text": [
      "*** Individuo 0*** \n",
      " Espaços = [0.751, 8.99e-05, 0.4, 0.29, 0.2, 0.0035, 0.496, 0.0424, 0.0544, 0.0319, 0.635, 0.87, 0.498, 0.527] \n",
      " Valores = [999.9, 2911.12, 4346.99, 3999.9, 2999.9, 2499.9, 199.9, 308.66, 429.9, 299.29, 849.0, 1199.89, 1999.9, 3999.9] \n",
      " Cromossomo = ['1', '1', '1', '1', '1', '1', '1', '1', '1', '1', '0', '0', '1', '0'] \n",
      " Nota = 20995.360000000004 \n",
      "\n",
      "*** Individuo 1*** \n",
      " Espaços = [0.751, 8.99e-05, 0.4, 0.29, 0.2, 0.0035, 0.496, 0.0424, 0.0544, 0.0319, 0.635, 0.87, 0.498, 0.527] \n",
      " Valores = [999.9, 2911.12, 4346.99, 3999.9, 2999.9, 2499.9, 199.9, 308.66, 429.9, 299.29, 849.0, 1199.89, 1999.9, 3999.9] \n",
      " Cromossomo = ['1', '1', '1', '0', '1', '1', '1', '1', '0', '1', '0', '0', '0', '1'] \n",
      " Nota = 18565.56 \n",
      "\n",
      "*** Individuo 2*** \n",
      " Espaços = [0.751, 8.99e-05, 0.4, 0.29, 0.2, 0.0035, 0.496, 0.0424, 0.0544, 0.0319, 0.635, 0.87, 0.498, 0.527] \n",
      " Valores = [999.9, 2911.12, 4346.99, 3999.9, 2999.9, 2499.9, 199.9, 308.66, 429.9, 299.29, 849.0, 1199.89, 1999.9, 3999.9] \n",
      " Cromossomo = ['0', '1', '0', '0', '0', '1', '0', '1', '1', '1', '1', '1', '1', '1'] \n",
      " Nota = 14497.56 \n",
      "\n",
      "*** Individuo 3*** \n",
      " Espaços = [0.751, 8.99e-05, 0.4, 0.29, 0.2, 0.0035, 0.496, 0.0424, 0.0544, 0.0319, 0.635, 0.87, 0.498, 0.527] \n",
      " Valores = [999.9, 2911.12, 4346.99, 3999.9, 2999.9, 2499.9, 199.9, 308.66, 429.9, 299.29, 849.0, 1199.89, 1999.9, 3999.9] \n",
      " Cromossomo = ['1', '1', '1', '0', '1', '1', '0', '0', '1', '0', '0', '0', '0', '0'] \n",
      " Nota = 14187.71 \n",
      "\n",
      "*** Individuo 4*** \n",
      " Espaços = [0.751, 8.99e-05, 0.4, 0.29, 0.2, 0.0035, 0.496, 0.0424, 0.0544, 0.0319, 0.635, 0.87, 0.498, 0.527] \n",
      " Valores = [999.9, 2911.12, 4346.99, 3999.9, 2999.9, 2499.9, 199.9, 308.66, 429.9, 299.29, 849.0, 1199.89, 1999.9, 3999.9] \n",
      " Cromossomo = ['0', '1', '1', '0', '0', '0', '1', '0', '1', '0', '0', '0', '1', '1'] \n",
      " Nota = 13887.71 \n",
      "\n",
      "*** Individuo 5*** \n",
      " Espaços = [0.751, 8.99e-05, 0.4, 0.29, 0.2, 0.0035, 0.496, 0.0424, 0.0544, 0.0319, 0.635, 0.87, 0.498, 0.527] \n",
      " Valores = [999.9, 2911.12, 4346.99, 3999.9, 2999.9, 2499.9, 199.9, 308.66, 429.9, 299.29, 849.0, 1199.89, 1999.9, 3999.9] \n",
      " Cromossomo = ['0', '0', '0', '1', '1', '0', '0', '0', '0', '0', '1', '1', '0', '1'] \n",
      " Nota = 13048.59 \n",
      "\n",
      "*** Individuo 6*** \n",
      " Espaços = [0.751, 8.99e-05, 0.4, 0.29, 0.2, 0.0035, 0.496, 0.0424, 0.0544, 0.0319, 0.635, 0.87, 0.498, 0.527] \n",
      " Valores = [999.9, 2911.12, 4346.99, 3999.9, 2999.9, 2499.9, 199.9, 308.66, 429.9, 299.29, 849.0, 1199.89, 1999.9, 3999.9] \n",
      " Cromossomo = ['0', '0', '1', '0', '0', '0', '0', '1', '1', '1', '1', '0', '1', '1'] \n",
      " Nota = 12233.64 \n",
      "\n",
      "*** Individuo 7*** \n",
      " Espaços = [0.751, 8.99e-05, 0.4, 0.29, 0.2, 0.0035, 0.496, 0.0424, 0.0544, 0.0319, 0.635, 0.87, 0.498, 0.527] \n",
      " Valores = [999.9, 2911.12, 4346.99, 3999.9, 2999.9, 2499.9, 199.9, 308.66, 429.9, 299.29, 849.0, 1199.89, 1999.9, 3999.9] \n",
      " Cromossomo = ['1', '1', '1', '0', '0', '1', '0', '0', '1', '1', '0', '0', '0', '0'] \n",
      " Nota = 11487.1 \n",
      "\n",
      "*** Individuo 8*** \n",
      " Espaços = [0.751, 8.99e-05, 0.4, 0.29, 0.2, 0.0035, 0.496, 0.0424, 0.0544, 0.0319, 0.635, 0.87, 0.498, 0.527] \n",
      " Valores = [999.9, 2911.12, 4346.99, 3999.9, 2999.9, 2499.9, 199.9, 308.66, 429.9, 299.29, 849.0, 1199.89, 1999.9, 3999.9] \n",
      " Cromossomo = ['0', '1', '0', '1', '1', '0', '0', '0', '0', '1', '0', '1', '0', '0'] \n",
      " Nota = 11410.1 \n",
      "\n",
      "*** Individuo 9*** \n",
      " Espaços = [0.751, 8.99e-05, 0.4, 0.29, 0.2, 0.0035, 0.496, 0.0424, 0.0544, 0.0319, 0.635, 0.87, 0.498, 0.527] \n",
      " Valores = [999.9, 2911.12, 4346.99, 3999.9, 2999.9, 2499.9, 199.9, 308.66, 429.9, 299.29, 849.0, 1199.89, 1999.9, 3999.9] \n",
      " Cromossomo = ['0', '0', '0', '1', '0', '1', '0', '1', '0', '1', '0', '1', '1', '0'] \n",
      " Nota = 10307.539999999999 \n",
      "\n",
      "*** Individuo 10*** \n",
      " Espaços = [0.751, 8.99e-05, 0.4, 0.29, 0.2, 0.0035, 0.496, 0.0424, 0.0544, 0.0319, 0.635, 0.87, 0.498, 0.527] \n",
      " Valores = [999.9, 2911.12, 4346.99, 3999.9, 2999.9, 2499.9, 199.9, 308.66, 429.9, 299.29, 849.0, 1199.89, 1999.9, 3999.9] \n",
      " Cromossomo = ['0', '1', '1', '0', '0', '0', '1', '1', '1', '1', '1', '0', '0', '0'] \n",
      " Nota = 9344.86 \n",
      "\n",
      "*** Individuo 11*** \n",
      " Espaços = [0.751, 8.99e-05, 0.4, 0.29, 0.2, 0.0035, 0.496, 0.0424, 0.0544, 0.0319, 0.635, 0.87, 0.498, 0.527] \n",
      " Valores = [999.9, 2911.12, 4346.99, 3999.9, 2999.9, 2499.9, 199.9, 308.66, 429.9, 299.29, 849.0, 1199.89, 1999.9, 3999.9] \n",
      " Cromossomo = ['0', '0', '0', '0', '0', '1', '0', '1', '1', '0', '0', '1', '0', '1'] \n",
      " Nota = 8438.25 \n",
      "\n",
      "*** Individuo 12*** \n",
      " Espaços = [0.751, 8.99e-05, 0.4, 0.29, 0.2, 0.0035, 0.496, 0.0424, 0.0544, 0.0319, 0.635, 0.87, 0.498, 0.527] \n",
      " Valores = [999.9, 2911.12, 4346.99, 3999.9, 2999.9, 2499.9, 199.9, 308.66, 429.9, 299.29, 849.0, 1199.89, 1999.9, 3999.9] \n",
      " Cromossomo = ['1', '1', '0', '0', '0', '1', '1', '1', '0', '1', '0', '1', '0', '0'] \n",
      " Nota = 8418.66 \n",
      "\n",
      "*** Individuo 13*** \n",
      " Espaços = [0.751, 8.99e-05, 0.4, 0.29, 0.2, 0.0035, 0.496, 0.0424, 0.0544, 0.0319, 0.635, 0.87, 0.498, 0.527] \n",
      " Valores = [999.9, 2911.12, 4346.99, 3999.9, 2999.9, 2499.9, 199.9, 308.66, 429.9, 299.29, 849.0, 1199.89, 1999.9, 3999.9] \n",
      " Cromossomo = ['0', '0', '0', '1', '0', '0', '0', '0', '0', '0', '1', '1', '1', '0'] \n",
      " Nota = 8048.6900000000005 \n",
      "\n",
      "*** Individuo 14*** \n",
      " Espaços = [0.751, 8.99e-05, 0.4, 0.29, 0.2, 0.0035, 0.496, 0.0424, 0.0544, 0.0319, 0.635, 0.87, 0.498, 0.527] \n",
      " Valores = [999.9, 2911.12, 4346.99, 3999.9, 2999.9, 2499.9, 199.9, 308.66, 429.9, 299.29, 849.0, 1199.89, 1999.9, 3999.9] \n",
      " Cromossomo = ['1', '1', '0', '0', '1', '0', '0', '1', '0', '0', '1', '1', '0', '1'] \n",
      " Nota = 1 \n",
      "\n",
      "*** Individuo 15*** \n",
      " Espaços = [0.751, 8.99e-05, 0.4, 0.29, 0.2, 0.0035, 0.496, 0.0424, 0.0544, 0.0319, 0.635, 0.87, 0.498, 0.527] \n",
      " Valores = [999.9, 2911.12, 4346.99, 3999.9, 2999.9, 2499.9, 199.9, 308.66, 429.9, 299.29, 849.0, 1199.89, 1999.9, 3999.9] \n",
      " Cromossomo = ['0', '0', '1', '1', '1', '1', '1', '1', '0', '1', '1', '1', '0', '1'] \n",
      " Nota = 1 \n",
      "\n",
      "*** Individuo 16*** \n",
      " Espaços = [0.751, 8.99e-05, 0.4, 0.29, 0.2, 0.0035, 0.496, 0.0424, 0.0544, 0.0319, 0.635, 0.87, 0.498, 0.527] \n",
      " Valores = [999.9, 2911.12, 4346.99, 3999.9, 2999.9, 2499.9, 199.9, 308.66, 429.9, 299.29, 849.0, 1199.89, 1999.9, 3999.9] \n",
      " Cromossomo = ['1', '0', '0', '1', '0', '1', '1', '1', '1', '1', '0', '1', '0', '1'] \n",
      " Nota = 1 \n",
      "\n",
      "*** Individuo 17*** \n",
      " Espaços = [0.751, 8.99e-05, 0.4, 0.29, 0.2, 0.0035, 0.496, 0.0424, 0.0544, 0.0319, 0.635, 0.87, 0.498, 0.527] \n",
      " Valores = [999.9, 2911.12, 4346.99, 3999.9, 2999.9, 2499.9, 199.9, 308.66, 429.9, 299.29, 849.0, 1199.89, 1999.9, 3999.9] \n",
      " Cromossomo = ['1', '1', '0', '0', '1', '0', '0', '1', '1', '0', '1', '1', '1', '1'] \n",
      " Nota = 1 \n",
      "\n",
      "*** Individuo 18*** \n",
      " Espaços = [0.751, 8.99e-05, 0.4, 0.29, 0.2, 0.0035, 0.496, 0.0424, 0.0544, 0.0319, 0.635, 0.87, 0.498, 0.527] \n",
      " Valores = [999.9, 2911.12, 4346.99, 3999.9, 2999.9, 2499.9, 199.9, 308.66, 429.9, 299.29, 849.0, 1199.89, 1999.9, 3999.9] \n",
      " Cromossomo = ['1', '1', '0', '1', '0', '0', '0', '0', '1', '0', '1', '1', '0', '1'] \n",
      " Nota = 1 \n",
      "\n",
      "*** Individuo 19*** \n",
      " Espaços = [0.751, 8.99e-05, 0.4, 0.29, 0.2, 0.0035, 0.496, 0.0424, 0.0544, 0.0319, 0.635, 0.87, 0.498, 0.527] \n",
      " Valores = [999.9, 2911.12, 4346.99, 3999.9, 2999.9, 2499.9, 199.9, 308.66, 429.9, 299.29, 849.0, 1199.89, 1999.9, 3999.9] \n",
      " Cromossomo = ['1', '1', '1', '0', '1', '0', '0', '0', '0', '1', '0', '1', '1', '1'] \n",
      " Nota = 1 \n",
      "\n"
     ]
    }
   ],
   "source": [
    "tamanho_populacao = 20\n",
    "ag = AlgoritimoGenetico(tamanho_populacao)\n",
    "ag.inicializa_populacao(espacos, valores, limite)\n",
    "\n",
    "for individuo in ag.populacao:\n",
    "    individuo.avaliacao()\n",
    "\n",
    "ag.ordena_populacao()\n",
    "\n",
    "for i in range(ag.tamanho_populacao):\n",
    "    print('*** Individuo %s*** \\n' % i,\n",
    "          'Espaços = %s \\n' % str(ag.populacao[i].espacos), \n",
    "          'Valores = %s \\n' % str(ag.populacao[i].valores),\n",
    "          'Cromossomo = %s \\n' % str(ag.populacao[i].cromossomo),\n",
    "          'Nota = %s \\n' % str(ag.populacao[i].nota_avaliacao)\n",
    "           )"
   ]
  },
  {
   "cell_type": "code",
   "execution_count": 170,
   "metadata": {},
   "outputs": [
    {
     "name": "stdout",
     "output_type": "stream",
     "text": [
      "Melhor Solução para o probema: ['0', '0', '1', '1', '1', '1', '0', '1', '0', '0', '1', '0', '1', '1'] Nota =  21004.15\n"
     ]
    }
   ],
   "source": [
    "tamanho_populacao = 20\n",
    "ag = AlgoritimoGenetico(tamanho_populacao)\n",
    "ag.inicializa_populacao(espacos, valores, limite)\n",
    "\n",
    "for individuo in ag.populacao:\n",
    "    individuo.avaliacao()\n",
    "\n",
    "ag.ordena_populacao()\n",
    "ag.melhor_individuo(ag.populacao[0])\n",
    "print('Melhor Solução para o probema: %s' % ag.melhor_solucao.cromossomo,\n",
    "      'Nota =  %s' % ag.melhor_solucao.nota_avaliacao\n",
    "     )"
   ]
  },
  {
   "cell_type": "code",
   "execution_count": 171,
   "metadata": {},
   "outputs": [
    {
     "name": "stdout",
     "output_type": "stream",
     "text": [
      "Soma =  170444.23999999996\n"
     ]
    }
   ],
   "source": [
    "tamanho_populacao = 20\n",
    "ag = AlgoritimoGenetico(tamanho_populacao)\n",
    "ag.inicializa_populacao(espacos, valores, limite)\n",
    "\n",
    "for individuo in ag.populacao:\n",
    "    individuo.avaliacao()\n",
    "\n",
    "ag.ordena_populacao()\n",
    "ag.melhor_individuo(ag.populacao[0])\n",
    "soma = ag.soma_avaliacoes()\n",
    "\n",
    "print('Soma =  %s' % soma)"
   ]
  },
  {
   "cell_type": "code",
   "execution_count": 172,
   "metadata": {},
   "outputs": [
    {
     "name": "stdout",
     "output_type": "stream",
     "text": [
      "Melhor: ['0', '0', '1', '1', '0', '1', '1', '0', '1', '0', '1', '0', '1', '0'] Valor: 14325.489999999998 \n",
      "\n"
     ]
    }
   ],
   "source": [
    "tamanho_populacao = 4\n",
    "ag = AlgoritimoGenetico(tamanho_populacao)\n",
    "ag.inicializa_populacao(espacos, valores, limite)\n",
    "\n",
    "for individuo in ag.populacao:\n",
    "    individuo.avaliacao()\n",
    "\n",
    "ag.ordena_populacao()\n",
    "ag.melhor_individuo(ag.populacao[0])\n",
    "soma = ag.soma_avaliacoes()\n",
    "nova_populacao = []\n",
    "probabilidade_mutacao = 0.01\n",
    "\n",
    "for individuo_gerados in range(0, ag.tamanho_populacao, 2):\n",
    "    pai1 = ag.seleciona_pai(soma)\n",
    "    pai2 = ag.seleciona_pai(soma)\n",
    "\n",
    "    filhos = ag.populacao[pai1].crossover(ag.populacao[pai2])\n",
    "    \n",
    "    nova_populacao.append(filhos[0].mutacao(probabilidade_mutacao))\n",
    "    nova_populacao.append(filhos[1].mutacao(probabilidade_mutacao))\n",
    "\n",
    "ag.populacao = list(nova_populacao)\n",
    "\n",
    "for individuo in ag.populacao:\n",
    "    individuo.avaliacao()\n",
    "\n",
    "ag.ordena_populacao()\n",
    "ag.melhor_individuo(ag.populacao[0])\n",
    "soma = ag.soma_avaliacoes()\n",
    "\n",
    "print('Melhor: %s' % ag.melhor_solucao.cromossomo, \n",
    "       'Valor: %s \\n' % ag.melhor_solucao.nota_avaliacao)"
   ]
  },
  {
   "cell_type": "code",
   "execution_count": 173,
   "metadata": {},
   "outputs": [],
   "source": [
    "# definição da função final"
   ]
  },
  {
   "cell_type": "code",
   "execution_count": 174,
   "metadata": {},
   "outputs": [
    {
     "name": "stdout",
     "output_type": "stream",
     "text": [
      "G:0  -> Valor 15654.529999999999 Espaço: 1.8377999999999999 Cromossomo: ['0', '0', '1', '1', '1', '1', '0', '1', '0', '1', '0', '1', '0', '0'] \n",
      "G:1  -> Valor 20784.95 Espaço: 2.5113 Cromossomo: ['0', '0', '1', '1', '1', '1', '1', '1', '1', '0', '0', '0', '1', '1'] \n",
      "G:2  -> Valor 15854.429999999998 Espaço: 2.3338 Cromossomo: ['0', '0', '1', '1', '1', '1', '1', '1', '0', '1', '0', '1', '0', '0'] \n",
      "G:3  -> Valor 15654.529999999999 Espaço: 1.8377999999999999 Cromossomo: ['0', '0', '1', '1', '1', '1', '0', '1', '0', '1', '0', '1', '0', '0'] \n",
      "G:4  -> Valor 21654.33 Espaço: 2.8628 Cromossomo: ['0', '0', '1', '1', '1', '1', '0', '1', '0', '1', '0', '1', '1', '1'] \n",
      "G:5  -> Valor 16654.43 Espaço: 2.5888 Cromossomo: ['1', '0', '1', '1', '1', '1', '0', '1', '0', '1', '0', '1', '0', '0'] \n",
      "G:6  -> Valor 18218.56 Espaço: 1.9648899000000002 Cromossomo: ['0', '1', '0', '1', '1', '1', '0', '1', '0', '1', '0', '1', '0', '1'] \n",
      "G:7  -> Valor 18218.56 Espaço: 1.9648899000000002 Cromossomo: ['0', '1', '0', '1', '1', '1', '0', '1', '0', '1', '0', '1', '0', '1'] \n",
      "G:8  -> Valor 19565.55 Espaço: 2.5888899000000003 Cromossomo: ['1', '1', '1', '1', '1', '1', '0', '1', '0', '1', '0', '1', '0', '0'] \n",
      "G:9  -> Valor 15654.529999999999 Espaço: 1.8377999999999999 Cromossomo: ['0', '0', '1', '1', '1', '1', '0', '1', '0', '1', '0', '1', '0', '0'] \n",
      "G:10  -> Valor 15654.529999999999 Espaço: 1.8377999999999999 Cromossomo: ['0', '0', '1', '1', '1', '1', '0', '1', '0', '1', '0', '1', '0', '0'] \n",
      "G:11  -> Valor 15654.529999999999 Espaço: 1.8377999999999999 Cromossomo: ['0', '0', '1', '1', '1', '1', '0', '1', '0', '1', '0', '1', '0', '0'] \n",
      "G:12  -> Valor 16654.43 Espaço: 2.5888 Cromossomo: ['1', '0', '1', '1', '1', '1', '0', '1', '0', '1', '0', '1', '0', '0'] \n",
      "G:13  -> Valor 16084.429999999998 Espaço: 1.8921999999999999 Cromossomo: ['0', '0', '1', '1', '1', '1', '0', '1', '1', '1', '0', '1', '0', '0'] \n",
      "G:14  -> Valor 16084.429999999998 Espaço: 1.8921999999999999 Cromossomo: ['0', '0', '1', '1', '1', '1', '0', '1', '1', '1', '0', '1', '0', '0'] \n",
      "G:15  -> Valor 15654.529999999999 Espaço: 1.8377999999999999 Cromossomo: ['0', '0', '1', '1', '1', '1', '0', '1', '0', '1', '0', '1', '0', '0'] \n",
      "G:16  -> Valor 15654.529999999999 Espaço: 1.8377999999999999 Cromossomo: ['0', '0', '1', '1', '1', '1', '0', '1', '0', '1', '0', '1', '0', '0'] \n",
      "G:17  -> Valor 15654.529999999999 Espaço: 1.8377999999999999 Cromossomo: ['0', '0', '1', '1', '1', '1', '0', '1', '0', '1', '0', '1', '0', '0'] \n",
      "G:18  -> Valor 16654.43 Espaço: 2.5888 Cromossomo: ['1', '0', '1', '1', '1', '1', '0', '1', '0', '1', '0', '1', '0', '0'] \n",
      "G:19  -> Valor 15654.529999999999 Espaço: 1.8377999999999999 Cromossomo: ['0', '0', '1', '1', '1', '1', '0', '1', '0', '1', '0', '1', '0', '0'] \n",
      "G:20  -> Valor 15654.529999999999 Espaço: 1.8377999999999999 Cromossomo: ['0', '0', '1', '1', '1', '1', '0', '1', '0', '1', '0', '1', '0', '0'] \n",
      "G:21  -> Valor 15654.529999999999 Espaço: 1.8377999999999999 Cromossomo: ['0', '0', '1', '1', '1', '1', '0', '1', '0', '1', '0', '1', '0', '0'] \n",
      "G:22  -> Valor 15654.529999999999 Espaço: 1.8377999999999999 Cromossomo: ['0', '0', '1', '1', '1', '1', '0', '1', '0', '1', '0', '1', '0', '0'] \n",
      "G:23  -> Valor 16654.43 Espaço: 2.5888 Cromossomo: ['1', '0', '1', '1', '1', '1', '0', '1', '0', '1', '0', '1', '0', '0'] \n",
      "G:24  -> Valor 15654.529999999999 Espaço: 1.8377999999999999 Cromossomo: ['0', '0', '1', '1', '1', '1', '0', '1', '0', '1', '0', '1', '0', '0'] \n",
      "G:25  -> Valor 15654.529999999999 Espaço: 1.8377999999999999 Cromossomo: ['0', '0', '1', '1', '1', '1', '0', '1', '0', '1', '0', '1', '0', '0'] \n",
      "G:26  -> Valor 15654.529999999999 Espaço: 1.8377999999999999 Cromossomo: ['0', '0', '1', '1', '1', '1', '0', '1', '0', '1', '0', '1', '0', '0'] \n",
      "G:27  -> Valor 15654.529999999999 Espaço: 1.8377999999999999 Cromossomo: ['0', '0', '1', '1', '1', '1', '0', '1', '0', '1', '0', '1', '0', '0'] \n",
      "G:28  -> Valor 15654.529999999999 Espaço: 1.8377999999999999 Cromossomo: ['0', '0', '1', '1', '1', '1', '0', '1', '0', '1', '0', '1', '0', '0'] \n",
      "G:29  -> Valor 15654.529999999999 Espaço: 1.8377999999999999 Cromossomo: ['0', '0', '1', '1', '1', '1', '0', '1', '0', '1', '0', '1', '0', '0'] \n",
      "G:30  -> Valor 15654.529999999999 Espaço: 1.8377999999999999 Cromossomo: ['0', '0', '1', '1', '1', '1', '0', '1', '0', '1', '0', '1', '0', '0'] \n",
      "G:31  -> Valor 15654.529999999999 Espaço: 1.8377999999999999 Cromossomo: ['0', '0', '1', '1', '1', '1', '0', '1', '0', '1', '0', '1', '0', '0'] \n",
      "G:32  -> Valor 12084.529999999999 Espaço: 1.6022 Cromossomo: ['0', '0', '1', '0', '1', '1', '0', '1', '1', '1', '0', '1', '0', '0'] \n",
      "G:33  -> Valor 12084.529999999999 Espaço: 1.6022 Cromossomo: ['0', '0', '1', '0', '1', '1', '0', '1', '1', '1', '0', '1', '0', '0'] \n",
      "G:34  -> Valor 11654.63 Espaço: 1.5478 Cromossomo: ['0', '0', '1', '0', '1', '1', '0', '1', '0', '1', '0', '1', '0', '0'] \n",
      "G:35  -> Valor 11654.63 Espaço: 1.5478 Cromossomo: ['0', '0', '1', '0', '1', '1', '0', '1', '0', '1', '0', '1', '0', '0'] \n",
      "G:36  -> Valor 12654.529999999999 Espaço: 2.2988 Cromossomo: ['1', '0', '1', '0', '1', '1', '0', '1', '0', '1', '0', '1', '0', '0'] \n",
      "G:37  -> Valor 12654.529999999999 Espaço: 2.2988 Cromossomo: ['1', '0', '1', '0', '1', '1', '0', '1', '0', '1', '0', '1', '0', '0'] \n",
      "G:38  -> Valor 12654.529999999999 Espaço: 2.2988 Cromossomo: ['1', '0', '1', '0', '1', '1', '0', '1', '0', '1', '0', '1', '0', '0'] \n",
      "G:39  -> Valor 12654.529999999999 Espaço: 2.2988 Cromossomo: ['1', '0', '1', '0', '1', '1', '0', '1', '0', '1', '0', '1', '0', '0'] \n",
      "G:40  -> Valor 12654.529999999999 Espaço: 2.2988 Cromossomo: ['1', '0', '1', '0', '1', '1', '0', '1', '0', '1', '0', '1', '0', '0'] \n",
      "G:41  -> Valor 12654.529999999999 Espaço: 2.2988 Cromossomo: ['1', '0', '1', '0', '1', '1', '0', '1', '0', '1', '0', '1', '0', '0'] \n",
      "G:42  -> Valor 12854.429999999998 Espaço: 2.7948 Cromossomo: ['1', '0', '1', '0', '1', '1', '1', '1', '0', '1', '0', '1', '0', '0'] \n",
      "G:43  -> Valor 12654.529999999999 Espaço: 2.2988 Cromossomo: ['1', '0', '1', '0', '1', '1', '0', '1', '0', '1', '0', '1', '0', '0'] \n",
      "G:44  -> Valor 12654.529999999999 Espaço: 2.2988 Cromossomo: ['1', '0', '1', '0', '1', '1', '0', '1', '0', '1', '0', '1', '0', '0'] \n",
      "G:45  -> Valor 12654.529999999999 Espaço: 2.2988 Cromossomo: ['1', '0', '1', '0', '1', '1', '0', '1', '0', '1', '0', '1', '0', '0'] \n",
      "G:46  -> Valor 12654.529999999999 Espaço: 2.2988 Cromossomo: ['1', '0', '1', '0', '1', '1', '0', '1', '0', '1', '0', '1', '0', '0'] \n",
      "G:47  -> Valor 12654.529999999999 Espaço: 2.2988 Cromossomo: ['1', '0', '1', '0', '1', '1', '0', '1', '0', '1', '0', '1', '0', '0'] \n",
      "G:48  -> Valor 12654.529999999999 Espaço: 2.2988 Cromossomo: ['1', '0', '1', '0', '1', '1', '0', '1', '0', '1', '0', '1', '0', '0'] \n",
      "G:49  -> Valor 12654.529999999999 Espaço: 2.2988 Cromossomo: ['1', '0', '1', '0', '1', '1', '0', '1', '0', '1', '0', '1', '0', '0'] \n",
      "G:50  -> Valor 12654.529999999999 Espaço: 2.2988 Cromossomo: ['1', '0', '1', '0', '1', '1', '0', '1', '0', '1', '0', '1', '0', '0'] \n",
      "G:51  -> Valor 12654.529999999999 Espaço: 2.2988 Cromossomo: ['1', '0', '1', '0', '1', '1', '0', '1', '0', '1', '0', '1', '0', '0'] \n",
      "G:52  -> Valor 16654.43 Espaço: 2.8258 Cromossomo: ['1', '0', '1', '0', '1', '1', '0', '1', '0', '1', '0', '1', '0', '1'] \n",
      "G:53  -> Valor 16654.43 Espaço: 2.8258 Cromossomo: ['1', '0', '1', '0', '1', '1', '0', '1', '0', '1', '0', '1', '0', '1'] \n",
      "G:54  -> Valor 12654.529999999999 Espaço: 2.2988 Cromossomo: ['1', '0', '1', '0', '1', '1', '0', '1', '0', '1', '0', '1', '0', '0'] \n",
      "G:55  -> Valor 12654.529999999999 Espaço: 2.2988 Cromossomo: ['1', '0', '1', '0', '1', '1', '0', '1', '0', '1', '0', '1', '0', '0'] \n",
      "G:56  -> Valor 12654.529999999999 Espaço: 2.2988 Cromossomo: ['1', '0', '1', '0', '1', '1', '0', '1', '0', '1', '0', '1', '0', '0'] \n",
      "G:57  -> Valor 13084.429999999998 Espaço: 2.3532 Cromossomo: ['1', '0', '1', '0', '1', '1', '0', '1', '1', '1', '0', '1', '0', '0'] \n",
      "G:58  -> Valor 13084.429999999998 Espaço: 2.3532 Cromossomo: ['1', '0', '1', '0', '1', '1', '0', '1', '1', '1', '0', '1', '0', '0'] \n",
      "G:59  -> Valor 13084.429999999998 Espaço: 2.3532 Cromossomo: ['1', '0', '1', '0', '1', '1', '0', '1', '1', '1', '0', '1', '0', '0'] \n",
      "G:60  -> Valor 13084.429999999998 Espaço: 2.3532 Cromossomo: ['1', '0', '1', '0', '1', '1', '0', '1', '1', '1', '0', '1', '0', '0'] \n",
      "G:61  -> Valor 17084.329999999998 Espaço: 2.8802000000000003 Cromossomo: ['1', '0', '1', '0', '1', '1', '0', '1', '1', '1', '0', '1', '0', '1'] \n",
      "G:62  -> Valor 17084.329999999998 Espaço: 2.8802000000000003 Cromossomo: ['1', '0', '1', '0', '1', '1', '0', '1', '1', '1', '0', '1', '0', '1'] \n",
      "G:63  -> Valor 17084.329999999998 Espaço: 2.8802000000000003 Cromossomo: ['1', '0', '1', '0', '1', '1', '0', '1', '1', '1', '0', '1', '0', '1'] \n",
      "G:64  -> Valor 17084.329999999998 Espaço: 2.8802000000000003 Cromossomo: ['1', '0', '1', '0', '1', '1', '0', '1', '1', '1', '0', '1', '0', '1'] \n",
      "G:65  -> Valor 16654.43 Espaço: 2.8258 Cromossomo: ['1', '0', '1', '0', '1', '1', '0', '1', '0', '1', '0', '1', '0', '1'] \n",
      "G:66  -> Valor 16654.43 Espaço: 2.8258 Cromossomo: ['1', '0', '1', '0', '1', '1', '0', '1', '0', '1', '0', '1', '0', '1'] \n",
      "G:67  -> Valor 16654.43 Espaço: 2.8258 Cromossomo: ['1', '0', '1', '0', '1', '1', '0', '1', '0', '1', '0', '1', '0', '1'] \n",
      "G:68  -> Valor 16654.43 Espaço: 2.8258 Cromossomo: ['1', '0', '1', '0', '1', '1', '0', '1', '0', '1', '0', '1', '0', '1'] \n",
      "G:69  -> Valor 16654.43 Espaço: 2.8258 Cromossomo: ['1', '0', '1', '0', '1', '1', '0', '1', '0', '1', '0', '1', '0', '1'] \n",
      "G:70  -> Valor 16654.43 Espaço: 2.8258 Cromossomo: ['1', '0', '1', '0', '1', '1', '0', '1', '0', '1', '0', '1', '0', '1'] \n",
      "G:71  -> Valor 16654.43 Espaço: 2.8258 Cromossomo: ['1', '0', '1', '0', '1', '1', '0', '1', '0', '1', '0', '1', '0', '1'] \n",
      "G:72  -> Valor 16654.43 Espaço: 2.8258 Cromossomo: ['1', '0', '1', '0', '1', '1', '0', '1', '0', '1', '0', '1', '0', '1'] \n",
      "G:73  -> Valor 16654.43 Espaço: 2.8258 Cromossomo: ['1', '0', '1', '0', '1', '1', '0', '1', '0', '1', '0', '1', '0', '1'] \n",
      "G:74  -> Valor 13654.529999999999 Espaço: 2.6258000000000004 Cromossomo: ['1', '0', '1', '0', '0', '1', '0', '1', '0', '1', '0', '1', '0', '1'] \n",
      "G:75  -> Valor 13654.529999999999 Espaço: 2.6258000000000004 Cromossomo: ['1', '0', '1', '0', '0', '1', '0', '1', '0', '1', '0', '1', '0', '1'] \n",
      "G:76  -> Valor 16565.65 Espaço: 2.6258899 Cromossomo: ['1', '1', '1', '0', '0', '1', '0', '1', '0', '1', '0', '1', '0', '1'] \n",
      "G:77  -> Valor 16565.65 Espaço: 2.6258899 Cromossomo: ['1', '1', '1', '0', '0', '1', '0', '1', '0', '1', '0', '1', '0', '1'] \n",
      "G:78  -> Valor 16565.65 Espaço: 2.6258899 Cromossomo: ['1', '1', '1', '0', '0', '1', '0', '1', '0', '1', '0', '1', '0', '1'] \n",
      "G:79  -> Valor 16565.65 Espaço: 2.6258899 Cromossomo: ['1', '1', '1', '0', '0', '1', '0', '1', '0', '1', '0', '1', '0', '1'] \n",
      "G:80  -> Valor 19565.55 Espaço: 2.8258899000000004 Cromossomo: ['1', '1', '1', '0', '1', '1', '0', '1', '0', '1', '0', '1', '0', '1'] \n",
      "G:81  -> Valor 16565.65 Espaço: 2.6258899 Cromossomo: ['1', '1', '1', '0', '0', '1', '0', '1', '0', '1', '0', '1', '0', '1'] \n",
      "G:82  -> Valor 19565.55 Espaço: 2.8258899000000004 Cromossomo: ['1', '1', '1', '0', '1', '1', '0', '1', '0', '1', '0', '1', '0', '1'] \n",
      "G:83  -> Valor 16565.65 Espaço: 2.6258899 Cromossomo: ['1', '1', '1', '0', '0', '1', '0', '1', '0', '1', '0', '1', '0', '1'] \n",
      "G:84  -> Valor 16565.65 Espaço: 2.6258899 Cromossomo: ['1', '1', '1', '0', '0', '1', '0', '1', '0', '1', '0', '1', '0', '1'] \n",
      "G:85  -> Valor 16565.65 Espaço: 2.6258899 Cromossomo: ['1', '1', '1', '0', '0', '1', '0', '1', '0', '1', '0', '1', '0', '1'] \n",
      "G:86  -> Valor 16565.65 Espaço: 2.6258899 Cromossomo: ['1', '1', '1', '0', '0', '1', '0', '1', '0', '1', '0', '1', '0', '1'] \n",
      "G:87  -> Valor 16565.65 Espaço: 2.6258899 Cromossomo: ['1', '1', '1', '0', '0', '1', '0', '1', '0', '1', '0', '1', '0', '1'] \n",
      "G:88  -> Valor 16565.65 Espaço: 2.6258899 Cromossomo: ['1', '1', '1', '0', '0', '1', '0', '1', '0', '1', '0', '1', '0', '1'] \n",
      "G:89  -> Valor 16995.55 Espaço: 2.6802899000000004 Cromossomo: ['1', '1', '1', '0', '0', '1', '0', '1', '1', '1', '0', '1', '0', '1'] \n",
      "G:90  -> Valor 16565.65 Espaço: 2.6258899 Cromossomo: ['1', '1', '1', '0', '0', '1', '0', '1', '0', '1', '0', '1', '0', '1'] \n",
      "G:91  -> Valor 20565.550000000003 Espaço: 2.9158899000000003 Cromossomo: ['1', '1', '1', '1', '0', '1', '0', '1', '0', '1', '0', '1', '0', '1'] \n",
      "G:92  -> Valor 20565.550000000003 Espaço: 2.9158899000000003 Cromossomo: ['1', '1', '1', '1', '0', '1', '0', '1', '0', '1', '0', '1', '0', '1'] \n",
      "G:93  -> Valor 20565.550000000003 Espaço: 2.9158899000000003 Cromossomo: ['1', '1', '1', '1', '0', '1', '0', '1', '0', '1', '0', '1', '0', '1'] \n",
      "G:94  -> Valor 20565.550000000003 Espaço: 2.9158899000000003 Cromossomo: ['1', '1', '1', '1', '0', '1', '0', '1', '0', '1', '0', '1', '0', '1'] \n",
      "G:95  -> Valor 16565.65 Espaço: 2.6258899 Cromossomo: ['1', '1', '1', '0', '0', '1', '0', '1', '0', '1', '0', '1', '0', '1'] \n",
      "G:96  -> Valor 16565.65 Espaço: 2.6258899 Cromossomo: ['1', '1', '1', '0', '0', '1', '0', '1', '0', '1', '0', '1', '0', '1'] \n",
      "G:97  -> Valor 16565.65 Espaço: 2.6258899 Cromossomo: ['1', '1', '1', '0', '0', '1', '0', '1', '0', '1', '0', '1', '0', '1'] \n",
      "G:98  -> Valor 16565.65 Espaço: 2.6258899 Cromossomo: ['1', '1', '1', '0', '0', '1', '0', '1', '0', '1', '0', '1', '0', '1'] \n",
      "G:99  -> Valor 16565.65 Espaço: 2.6258899 Cromossomo: ['1', '1', '1', '0', '0', '1', '0', '1', '0', '1', '0', '1', '0', '1'] \n",
      "G:100  -> Valor 16565.65 Espaço: 2.6258899 Cromossomo: ['1', '1', '1', '0', '0', '1', '0', '1', '0', '1', '0', '1', '0', '1'] \n",
      "\n",
      " Melhor Solução --> G: 4 Valor: 21654.33 Espaço: 2.8628 Cromossomo: ['0', '0', '1', '1', '1', '1', '0', '1', '0', '1', '0', '1', '1', '1']\n",
      "Nome: Geladeira Dako R$ 999.9\n",
      "Nome: Iphone 6 R$ 2911.12\n",
      "Nome: TV 55 R$ 4346.99\n",
      "Nome: Notebook Dell R$ 2499.9\n",
      "Nome: Microondas Eletrolux R$ 308.66\n",
      "Nome: Microondas Panasonic R$ 299.29\n",
      "Nome: Geladeira Consul R$ 1199.89\n",
      "Nome: Notebook Asus R$ 3999.9\n"
     ]
    }
   ],
   "source": [
    "tamanho_populacao = 4\n",
    "limite = 3\n",
    "taxa_mutacao = 0.01\n",
    "numero_geracoes = 100\n",
    "\n",
    "\n",
    "ag = AlgoritimoGenetico(tamanho_populacao)\n",
    "resultado = ag.resolver(taxa_mutacao, numero_geracoes, espacos, valores, limite)\n",
    "\n",
    "for i in range(len(lista_produtos)):\n",
    "    if resultado[i] == '1':\n",
    "        print('Nome: %s R$ %s' % (lista_produtos[i].nome, \n",
    "                                  lista_produtos[i].valor))"
   ]
  },
  {
   "cell_type": "code",
   "execution_count": null,
   "metadata": {},
   "outputs": [],
   "source": []
  }
 ],
 "metadata": {
  "interpreter": {
   "hash": "b3ba2566441a7c06988d0923437866b63cedc61552a5af99d1f4fb67d367b25f"
  },
  "kernelspec": {
   "display_name": "Python 3.8.8 ('base')",
   "language": "python",
   "name": "python3"
  },
  "language_info": {
   "codemirror_mode": {
    "name": "ipython",
    "version": 3
   },
   "file_extension": ".py",
   "mimetype": "text/x-python",
   "name": "python",
   "nbconvert_exporter": "python",
   "pygments_lexer": "ipython3",
   "version": "3.8.8"
  },
  "orig_nbformat": 4
 },
 "nbformat": 4,
 "nbformat_minor": 2
}
