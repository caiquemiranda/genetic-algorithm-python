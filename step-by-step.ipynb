{
 "cells": [
  {
   "cell_type": "markdown",
   "metadata": {},
   "source": [
    "### Problema\n",
    "\n",
    "Em uma trasnportadora com caminhoes de espaço interno do baú de 3m³ temos que alocar produtos que em sua soma total ocupam 4.79m³, qual melhor alocação de produtos para gerar o maior lucro, tendo em mente ocupar os caminhão com os produtos com maior lucro?"
   ]
  },
  {
   "cell_type": "code",
   "execution_count": 78,
   "metadata": {},
   "outputs": [],
   "source": [
    "from random import random\n",
    "import matplotlib.pyplot as plt"
   ]
  },
  {
   "cell_type": "code",
   "execution_count": 79,
   "metadata": {},
   "outputs": [],
   "source": [
    "class Produto():\n",
    "    def __init__(self, nome, espaco, valor):\n",
    "        self.nome = nome\n",
    "        self.espaco = espaco\n",
    "        self.valor = valor       "
   ]
  },
  {
   "cell_type": "code",
   "execution_count": 80,
   "metadata": {},
   "outputs": [],
   "source": [
    "lista_produtos = []\n",
    "lista_produtos.append(Produto('Geladeira Dako', 0.751, 999.90))\n",
    "lista_produtos.append(Produto('Iphone 6', 0.0000899, 2911.12))\n",
    "lista_produtos.append(Produto('TV 55', 0.400, 4346.99))\n",
    "lista_produtos.append(Produto('TV 50', 0.290, 3999.90))\n",
    "lista_produtos.append(Produto('TV 42', 0.200, 2999.90))\n",
    "lista_produtos.append(Produto('Notebook Dell', 0.00350, 2499.90))\n",
    "lista_produtos.append(Produto('Ventilador Panasonic', 0.496, 199.90))\n",
    "lista_produtos.append(Produto('Microondas Eletrolux', 0.0424, 308.66))\n",
    "lista_produtos.append(Produto('Microondas LG', 0.0544, 429.90))\n",
    "lista_produtos.append(Produto('Microondas Panasonic', 0.0319, 299.29))\n",
    "lista_produtos.append(Produto('Geladeira Brastemp', 0.635, 849.00))\n",
    "lista_produtos.append(Produto('Geladeira Consul', 0.870, 1199.89))\n",
    "lista_produtos.append(Produto('Notebook Lenovo', 0.498, 1999.90))\n",
    "lista_produtos.append(Produto('Notebook Asus', 0.527, 3999.90))"
   ]
  },
  {
   "cell_type": "code",
   "execution_count": 81,
   "metadata": {},
   "outputs": [
    {
     "name": "stdout",
     "output_type": "stream",
     "text": [
      "<__main__.Produto object at 0x000001E68A5FFEE0>\n",
      "<__main__.Produto object at 0x000001E68A5FFE50>\n",
      "<__main__.Produto object at 0x000001E68A5FFE80>\n",
      "<__main__.Produto object at 0x000001E68A5FFF70>\n",
      "<__main__.Produto object at 0x000001E68A5FFD30>\n",
      "<__main__.Produto object at 0x000001E68A5FFEB0>\n",
      "<__main__.Produto object at 0x000001E68A5F3040>\n",
      "<__main__.Produto object at 0x000001E68A5F30A0>\n",
      "<__main__.Produto object at 0x000001E68A5F3100>\n",
      "<__main__.Produto object at 0x000001E68A5F3160>\n",
      "<__main__.Produto object at 0x000001E68A5F31C0>\n",
      "<__main__.Produto object at 0x000001E68A5F3220>\n",
      "<__main__.Produto object at 0x000001E68A5F3280>\n",
      "<__main__.Produto object at 0x000001E6CCB498E0>\n"
     ]
    }
   ],
   "source": [
    "for produto in lista_produtos:\n",
    "    print(produto)"
   ]
  },
  {
   "cell_type": "code",
   "execution_count": 82,
   "metadata": {},
   "outputs": [],
   "source": [
    "class Individuo():\n",
    "    def __init__(self, espacos, valores, limite_esoacos, geracao=0):\n",
    "        self.espacos = espacos\n",
    "        self.valores = valores\n",
    "        self.limite_espacos = limite_esoacos\n",
    "        self.geracao = geracao\n",
    "        self.nota_avaliacao = 0\n",
    "        self.espaco_usado = 0\n",
    "        self.cromossomo = []\n",
    "\n",
    "        for i in range(len(espacos)):\n",
    "            if random() < 0.5:\n",
    "                self.cromossomo.append('0')\n",
    "            else:\n",
    "                self.cromossomo.append('1')\n",
    "    \n",
    "    def avaliacao(self):\n",
    "        nota = 0 \n",
    "        soma_espacos = 0\n",
    "        for i in range(len(self.cromossomo)):\n",
    "            if self.cromossomo[i] == '1':\n",
    "                nota += self.valores[i]\n",
    "                soma_espacos += self.espacos[i]\n",
    "        \n",
    "        if soma_espacos > self.limite_espacos:\n",
    "            nota = 1\n",
    "\n",
    "        self.nota_avaliacao = nota\n",
    "        self.espaco_usado = soma_espacos\n",
    "    \n",
    "    def crossover(self, outro_individuo):\n",
    "        corte = round(random() * len(self.cromossomo))\n",
    "        \n",
    "        filho1 = outro_individuo.cromossomo[0:corte] + self.cromossomo[corte::]\n",
    "        filho2 = self.cromossomo[0:corte] + outro_individuo.cromossomo[corte::]\n",
    "\n",
    "        filhos = [Individuo(self.espacos, self.valores, self.limite_espacos, self.geracao + 1),\n",
    "                  Individuo(self.espacos, self.valores, self.limite_espacos, self.geracao + 1)]\n",
    "\n",
    "        filhos[0].cromossomo = filho1\n",
    "        filhos[1].cromossomo = filho2\n",
    "        \n",
    "        return filhos\n",
    "\n",
    "    def mutacao(self, taxa_mutacao):\n",
    "        #print('Antes %s' % self.cromossomo)\n",
    "        for i in range(len(self.cromossomo)):\n",
    "            if random() < taxa_mutacao:\n",
    "                if self.cromossomo[i] =='1':\n",
    "                    self.cromossomo[i] = '0'\n",
    "                else:\n",
    "                    self.cromossomo[i] = '1'\n",
    "        \n",
    "        #print('Depois %s' % self.cromossomo)\n",
    "        return self\n"
   ]
  },
  {
   "cell_type": "code",
   "execution_count": 83,
   "metadata": {},
   "outputs": [],
   "source": [
    "class AlgoritimoGenetico():\n",
    "    def __init__(self, tamanho_populacao):\n",
    "        self.tamanho_populacao = tamanho_populacao\n",
    "        self.populacao = []\n",
    "        self.geracao = 0\n",
    "        self.melhor_solucao = 0\n",
    "        \n",
    "        # visualização do grafico\n",
    "        self.lista_solucoes = []\n",
    "\n",
    "    def inicializa_populacao(self, espacos, valores, limite_espacos):\n",
    "        for i in range(self.tamanho_populacao):\n",
    "            self.populacao.append(Individuo(espacos, valores, limite_espacos))\n",
    "        self.melhor_solucao = self.populacao[0]\n",
    "    \n",
    "    def ordena_populacao(self):\n",
    "        self.populacao = sorted(self.populacao, \n",
    "                                key = lambda populacao: populacao.nota_avaliacao, \n",
    "                                reverse=True)\n",
    "\n",
    "    def melhor_individuo(self, individuo):\n",
    "        if individuo.nota_avaliacao > self.melhor_solucao.nota_avaliacao:\n",
    "            self.melhor_solucao = individuo\n",
    "    \n",
    "    def soma_avaliacoes(self):\n",
    "        soma = 0 \n",
    "        for individuo in self.populacao:\n",
    "            soma += individuo.nota_avaliacao\n",
    "        \n",
    "        return soma\n",
    "    \n",
    "    def seleciona_pai(self, soma_avaliacao):\n",
    "        pai = -1\n",
    "        valor_sorteado = random()*soma_avaliacao\n",
    "        soma = 0 \n",
    "        i = 0 \n",
    "        while i < len(self.populacao) and soma < valor_sorteado:\n",
    "            soma += self.populacao[i].nota_avaliacao\n",
    "            pai += 1 \n",
    "            i += 1\n",
    "        \n",
    "        return pai\n",
    "    \n",
    "    def visualiza_geracao(self):\n",
    "        melhor = self.populacao[0]\n",
    "        print('G:%s  -> Valor %s Espaço: %s Cromossomo: %s ' % (self.populacao[0].geracao,\n",
    "                                                                melhor.nota_avaliacao,\n",
    "                                                                melhor.espaco_usado, \n",
    "                                                                melhor.cromossomo))\n",
    "        \n",
    "    def resolver(self, taxa_mutacao, numero_geracoes, espacos, valores, limite_espacos):\n",
    "        self.inicializa_populacao(espacos, valores, limite_espacos)\n",
    "\n",
    "        for individuo in self.populacao:\n",
    "            individuo.avaliacao()\n",
    "        \n",
    "        self.ordena_populacao()\n",
    "\n",
    "        self.melhor_solucao = self.populacao[0]\n",
    "        self.lista_solucoes.append(self.melhor_solucao.nota_avaliacao)\n",
    "\n",
    "        self.visualiza_geracao()\n",
    "\n",
    "        for geracao in range(numero_geracoes):\n",
    "            soma_avaliacao = self.soma_avaliacoes()\n",
    "            nova_populacao = []\n",
    "\n",
    "            for individuo_gerados in range(0, self.tamanho_populacao, 2):\n",
    "                pai1 = self.seleciona_pai(soma_avaliacao)\n",
    "                pai2 = self.seleciona_pai(soma_avaliacao)\n",
    "\n",
    "                filhos = self.populacao[pai1].crossover(self.populacao[pai2])\n",
    "\n",
    "                nova_populacao.append(filhos[0].mutacao(taxa_mutacao))\n",
    "                nova_populacao.append(filhos[1].mutacao(taxa_mutacao))\n",
    "\n",
    "            self.populacao = list(nova_populacao)\n",
    "            \n",
    "            for individuo in self.populacao:\n",
    "                individuo.avaliacao()\n",
    "\n",
    "            self.ordena_populacao()\n",
    "\n",
    "            self.visualiza_geracao()\n",
    "\n",
    "            melhor = self.populacao[0]\n",
    "            self.lista_solucoes.append(melhor.nota_avaliacao)\n",
    "            self.melhor_individuo(melhor)\n",
    "\n",
    "        print('\\n Melhor Solução --> G: %s Valor: %s Espaço: %s Cromossomo: %s' % \n",
    "                (self.melhor_solucao.geracao,\n",
    "                 self.melhor_solucao.nota_avaliacao,\n",
    "                 self.melhor_solucao.espaco_usado,\n",
    "                 self.melhor_solucao.cromossomo))\n",
    "        \n",
    "        return melhor.cromossomo\n"
   ]
  },
  {
   "cell_type": "code",
   "execution_count": 84,
   "metadata": {},
   "outputs": [],
   "source": [
    "espacos = []\n",
    "valores = []\n",
    "nomes = []\n",
    "for produto in lista_produtos:\n",
    "    espacos.append(produto.espaco)\n",
    "    valores.append(produto.valor)\n",
    "    nomes.append(produto.nome)"
   ]
  },
  {
   "cell_type": "code",
   "execution_count": 85,
   "metadata": {},
   "outputs": [
    {
     "name": "stdout",
     "output_type": "stream",
     "text": [
      "[0.751, 8.99e-05, 0.4, 0.29, 0.2, 0.0035, 0.496, 0.0424, 0.0544, 0.0319, 0.635, 0.87, 0.498, 0.527]\n",
      "[999.9, 2911.12, 4346.99, 3999.9, 2999.9, 2499.9, 199.9, 308.66, 429.9, 299.29, 849.0, 1199.89, 1999.9, 3999.9]\n",
      "['Geladeira Dako', 'Iphone 6', 'TV 55', 'TV 50', 'TV 42', 'Notebook Dell', 'Ventilador Panasonic', 'Microondas Eletrolux', 'Microondas LG', 'Microondas Panasonic', 'Geladeira Brastemp', 'Geladeira Consul', 'Notebook Lenovo', 'Notebook Asus']\n"
     ]
    },
    {
     "data": {
      "text/plain": [
       "(None, None, None)"
      ]
     },
     "execution_count": 85,
     "metadata": {},
     "output_type": "execute_result"
    }
   ],
   "source": [
    "print(espacos), print(valores), print(nomes)"
   ]
  },
  {
   "cell_type": "code",
   "execution_count": 86,
   "metadata": {},
   "outputs": [],
   "source": [
    "limite = 3\n",
    "\n",
    "individuo1 = Individuo(espacos, valores, limite)"
   ]
  },
  {
   "cell_type": "code",
   "execution_count": 87,
   "metadata": {},
   "outputs": [
    {
     "name": "stdout",
     "output_type": "stream",
     "text": [
      "Espaços = [0.751, 8.99e-05, 0.4, 0.29, 0.2, 0.0035, 0.496, 0.0424, 0.0544, 0.0319, 0.635, 0.87, 0.498, 0.527]\n",
      "Valores = [999.9, 2911.12, 4346.99, 3999.9, 2999.9, 2499.9, 199.9, 308.66, 429.9, 299.29, 849.0, 1199.89, 1999.9, 3999.9]\n",
      "Cromossomo = ['0', '0', '0', '1', '0', '1', '1', '1', '0', '0', '0', '0', '1', '1']\n"
     ]
    }
   ],
   "source": [
    "print('Espaços = %s' % str(individuo1.espacos))\n",
    "print('Valores = %s' % str(individuo1.valores))\n",
    "print('Cromossomo = %s' % str(individuo1.cromossomo))"
   ]
  },
  {
   "cell_type": "code",
   "execution_count": 88,
   "metadata": {},
   "outputs": [
    {
     "name": "stdout",
     "output_type": "stream",
     "text": [
      "Componentes da carga\n",
      "Nome: TV 50 R$ 3999.9 \n",
      "Nome: Notebook Dell R$ 2499.9 \n",
      "Nome: Ventilador Panasonic R$ 199.9 \n",
      "Nome: Microondas Eletrolux R$ 308.66 \n",
      "Nome: Notebook Lenovo R$ 1999.9 \n",
      "Nome: Notebook Asus R$ 3999.9 \n"
     ]
    }
   ],
   "source": [
    "print('Componentes da carga')\n",
    "for i in range(len(lista_produtos)):\n",
    "    if individuo1.cromossomo[i] == '1':\n",
    "        print('Nome: %s R$ %s ' % (lista_produtos[i].nome, lista_produtos[i].valor))"
   ]
  },
  {
   "cell_type": "code",
   "execution_count": 89,
   "metadata": {},
   "outputs": [],
   "source": [
    "individuo1.avaliacao()"
   ]
  },
  {
   "cell_type": "code",
   "execution_count": 90,
   "metadata": {},
   "outputs": [
    {
     "name": "stdout",
     "output_type": "stream",
     "text": [
      "Nota: 13008.16 \n",
      "Espaço usado: 1.8569 \n"
     ]
    }
   ],
   "source": [
    "print('Nota: %s ' % (individuo1.nota_avaliacao))\n",
    "print('Espaço usado: %s ' % (individuo1.espaco_usado))"
   ]
  },
  {
   "cell_type": "code",
   "execution_count": 91,
   "metadata": {},
   "outputs": [
    {
     "name": "stdout",
     "output_type": "stream",
     "text": [
      "\n",
      "Individuo 1\n",
      "Componentes da carga\n",
      "Nome: TV 50 R$ 3999.9 \n",
      "Nome: Notebook Dell R$ 2499.9 \n",
      "Nome: Ventilador Panasonic R$ 199.9 \n",
      "Nome: Microondas Eletrolux R$ 308.66 \n",
      "Nome: Notebook Lenovo R$ 1999.9 \n",
      "Nome: Notebook Asus R$ 3999.9 \n",
      "Nota: 13008.16 \n",
      "Espaço usado: 1.8569 \n"
     ]
    }
   ],
   "source": [
    "print('\\nIndividuo 1')\n",
    "print('Componentes da carga')\n",
    "for i in range(len(lista_produtos)):\n",
    "    if individuo1.cromossomo[i] == '1':\n",
    "        print('Nome: %s R$ %s ' % (lista_produtos[i].nome, lista_produtos[i].valor))\n",
    "individuo1.avaliacao()\n",
    "print('Nota: %s ' % (individuo1.nota_avaliacao))\n",
    "print('Espaço usado: %s ' % (individuo1.espaco_usado))"
   ]
  },
  {
   "cell_type": "code",
   "execution_count": 92,
   "metadata": {},
   "outputs": [],
   "source": [
    "individuo2 = Individuo(espacos, valores, limite)"
   ]
  },
  {
   "cell_type": "code",
   "execution_count": 93,
   "metadata": {},
   "outputs": [],
   "source": [
    "individuo2.avaliacao()"
   ]
  },
  {
   "cell_type": "code",
   "execution_count": 94,
   "metadata": {},
   "outputs": [
    {
     "name": "stdout",
     "output_type": "stream",
     "text": [
      "\n",
      "Individuo 2\n",
      "Componentes da carga\n",
      "Nome: Iphone 6 R$ 2911.12 \n",
      "Nome: Ventilador Panasonic R$ 199.9 \n",
      "Nome: Microondas Eletrolux R$ 308.66 \n",
      "Nome: Microondas LG R$ 429.9 \n",
      "Nome: Geladeira Brastemp R$ 849.0 \n",
      "Nome: Notebook Asus R$ 3999.9 \n",
      "Nota: 8698.48 \n",
      "Espaço usado: 1.7548899000000002 \n"
     ]
    }
   ],
   "source": [
    "print('\\nIndividuo 2')\n",
    "print('Componentes da carga')\n",
    "for i in range(len(lista_produtos)):\n",
    "    if individuo2.cromossomo[i] == '1':\n",
    "        print('Nome: %s R$ %s ' % (lista_produtos[i].nome, lista_produtos[i].valor))\n",
    "individuo1.avaliacao()\n",
    "print('Nota: %s ' % (individuo2.nota_avaliacao))\n",
    "print('Espaço usado: %s ' % (individuo2.espaco_usado))"
   ]
  },
  {
   "cell_type": "code",
   "execution_count": 95,
   "metadata": {},
   "outputs": [
    {
     "data": {
      "text/plain": [
       "<__main__.Individuo at 0x1e6ccae3e50>"
      ]
     },
     "execution_count": 95,
     "metadata": {},
     "output_type": "execute_result"
    }
   ],
   "source": [
    "individuo1.mutacao(0.05)\n",
    "individuo2.mutacao(0.05)"
   ]
  },
  {
   "cell_type": "code",
   "execution_count": 96,
   "metadata": {},
   "outputs": [
    {
     "name": "stdout",
     "output_type": "stream",
     "text": [
      "*** Individuo 0*** \n",
      " Espaços = [0.751, 8.99e-05, 0.4, 0.29, 0.2, 0.0035, 0.496, 0.0424, 0.0544, 0.0319, 0.635, 0.87, 0.498, 0.527] \n",
      " Valores = [999.9, 2911.12, 4346.99, 3999.9, 2999.9, 2499.9, 199.9, 308.66, 429.9, 299.29, 849.0, 1199.89, 1999.9, 3999.9] \n",
      " Cromossomo = ['0', '1', '1', '1', '1', '1', '0', '1', '1', '0', '1', '0', '1', '1'] \n",
      " Nota = 24345.170000000006 \n",
      "\n",
      "*** Individuo 1*** \n",
      " Espaços = [0.751, 8.99e-05, 0.4, 0.29, 0.2, 0.0035, 0.496, 0.0424, 0.0544, 0.0319, 0.635, 0.87, 0.498, 0.527] \n",
      " Valores = [999.9, 2911.12, 4346.99, 3999.9, 2999.9, 2499.9, 199.9, 308.66, 429.9, 299.29, 849.0, 1199.89, 1999.9, 3999.9] \n",
      " Cromossomo = ['0', '0', '1', '1', '1', '1', '0', '1', '0', '0', '1', '0', '1', '1'] \n",
      " Nota = 21004.15 \n",
      "\n",
      "*** Individuo 2*** \n",
      " Espaços = [0.751, 8.99e-05, 0.4, 0.29, 0.2, 0.0035, 0.496, 0.0424, 0.0544, 0.0319, 0.635, 0.87, 0.498, 0.527] \n",
      " Valores = [999.9, 2911.12, 4346.99, 3999.9, 2999.9, 2499.9, 199.9, 308.66, 429.9, 299.29, 849.0, 1199.89, 1999.9, 3999.9] \n",
      " Cromossomo = ['0', '1', '1', '1', '1', '1', '0', '0', '0', '0', '0', '0', '0', '1'] \n",
      " Nota = 20757.710000000003 \n",
      "\n",
      "*** Individuo 3*** \n",
      " Espaços = [0.751, 8.99e-05, 0.4, 0.29, 0.2, 0.0035, 0.496, 0.0424, 0.0544, 0.0319, 0.635, 0.87, 0.498, 0.527] \n",
      " Valores = [999.9, 2911.12, 4346.99, 3999.9, 2999.9, 2499.9, 199.9, 308.66, 429.9, 299.29, 849.0, 1199.89, 1999.9, 3999.9] \n",
      " Cromossomo = ['1', '0', '1', '1', '1', '1', '0', '0', '0', '0', '0', '0', '0', '1'] \n",
      " Nota = 18846.489999999998 \n",
      "\n",
      "*** Individuo 4*** \n",
      " Espaços = [0.751, 8.99e-05, 0.4, 0.29, 0.2, 0.0035, 0.496, 0.0424, 0.0544, 0.0319, 0.635, 0.87, 0.498, 0.527] \n",
      " Valores = [999.9, 2911.12, 4346.99, 3999.9, 2999.9, 2499.9, 199.9, 308.66, 429.9, 299.29, 849.0, 1199.89, 1999.9, 3999.9] \n",
      " Cromossomo = ['1', '1', '1', '1', '1', '0', '1', '1', '0', '1', '0', '0', '1', '0'] \n",
      " Nota = 18065.56 \n",
      "\n",
      "*** Individuo 5*** \n",
      " Espaços = [0.751, 8.99e-05, 0.4, 0.29, 0.2, 0.0035, 0.496, 0.0424, 0.0544, 0.0319, 0.635, 0.87, 0.498, 0.527] \n",
      " Valores = [999.9, 2911.12, 4346.99, 3999.9, 2999.9, 2499.9, 199.9, 308.66, 429.9, 299.29, 849.0, 1199.89, 1999.9, 3999.9] \n",
      " Cromossomo = ['0', '1', '0', '1', '1', '0', '0', '1', '1', '1', '1', '0', '1', '1'] \n",
      " Nota = 17797.57 \n",
      "\n",
      "*** Individuo 6*** \n",
      " Espaços = [0.751, 8.99e-05, 0.4, 0.29, 0.2, 0.0035, 0.496, 0.0424, 0.0544, 0.0319, 0.635, 0.87, 0.498, 0.527] \n",
      " Valores = [999.9, 2911.12, 4346.99, 3999.9, 2999.9, 2499.9, 199.9, 308.66, 429.9, 299.29, 849.0, 1199.89, 1999.9, 3999.9] \n",
      " Cromossomo = ['0', '0', '1', '1', '0', '1', '1', '0', '1', '1', '0', '1', '0', '1'] \n",
      " Nota = 16975.67 \n",
      "\n",
      "*** Individuo 7*** \n",
      " Espaços = [0.751, 8.99e-05, 0.4, 0.29, 0.2, 0.0035, 0.496, 0.0424, 0.0544, 0.0319, 0.635, 0.87, 0.498, 0.527] \n",
      " Valores = [999.9, 2911.12, 4346.99, 3999.9, 2999.9, 2499.9, 199.9, 308.66, 429.9, 299.29, 849.0, 1199.89, 1999.9, 3999.9] \n",
      " Cromossomo = ['0', '0', '1', '0', '0', '1', '1', '1', '0', '1', '0', '1', '1', '1'] \n",
      " Nota = 14854.429999999998 \n",
      "\n",
      "*** Individuo 8*** \n",
      " Espaços = [0.751, 8.99e-05, 0.4, 0.29, 0.2, 0.0035, 0.496, 0.0424, 0.0544, 0.0319, 0.635, 0.87, 0.498, 0.527] \n",
      " Valores = [999.9, 2911.12, 4346.99, 3999.9, 2999.9, 2499.9, 199.9, 308.66, 429.9, 299.29, 849.0, 1199.89, 1999.9, 3999.9] \n",
      " Cromossomo = ['1', '0', '0', '1', '1', '1', '1', '1', '0', '1', '1', '0', '1', '0'] \n",
      " Nota = 14156.35 \n",
      "\n",
      "*** Individuo 9*** \n",
      " Espaços = [0.751, 8.99e-05, 0.4, 0.29, 0.2, 0.0035, 0.496, 0.0424, 0.0544, 0.0319, 0.635, 0.87, 0.498, 0.527] \n",
      " Valores = [999.9, 2911.12, 4346.99, 3999.9, 2999.9, 2499.9, 199.9, 308.66, 429.9, 299.29, 849.0, 1199.89, 1999.9, 3999.9] \n",
      " Cromossomo = ['1', '1', '1', '1', '0', '0', '0', '0', '1', '0', '0', '1', '0', '0'] \n",
      " Nota = 13887.699999999999 \n",
      "\n",
      "*** Individuo 10*** \n",
      " Espaços = [0.751, 8.99e-05, 0.4, 0.29, 0.2, 0.0035, 0.496, 0.0424, 0.0544, 0.0319, 0.635, 0.87, 0.498, 0.527] \n",
      " Valores = [999.9, 2911.12, 4346.99, 3999.9, 2999.9, 2499.9, 199.9, 308.66, 429.9, 299.29, 849.0, 1199.89, 1999.9, 3999.9] \n",
      " Cromossomo = ['1', '1', '1', '0', '0', '1', '1', '1', '1', '0', '1', '0', '0', '0'] \n",
      " Nota = 12545.369999999999 \n",
      "\n",
      "*** Individuo 11*** \n",
      " Espaços = [0.751, 8.99e-05, 0.4, 0.29, 0.2, 0.0035, 0.496, 0.0424, 0.0544, 0.0319, 0.635, 0.87, 0.498, 0.527] \n",
      " Valores = [999.9, 2911.12, 4346.99, 3999.9, 2999.9, 2499.9, 199.9, 308.66, 429.9, 299.29, 849.0, 1199.89, 1999.9, 3999.9] \n",
      " Cromossomo = ['0', '1', '0', '1', '0', '1', '1', '1', '0', '0', '1', '1', '0', '0'] \n",
      " Nota = 11968.369999999999 \n",
      "\n",
      "*** Individuo 12*** \n",
      " Espaços = [0.751, 8.99e-05, 0.4, 0.29, 0.2, 0.0035, 0.496, 0.0424, 0.0544, 0.0319, 0.635, 0.87, 0.498, 0.527] \n",
      " Valores = [999.9, 2911.12, 4346.99, 3999.9, 2999.9, 2499.9, 199.9, 308.66, 429.9, 299.29, 849.0, 1199.89, 1999.9, 3999.9] \n",
      " Cromossomo = ['0', '0', '0', '1', '1', '0', '0', '1', '1', '0', '1', '0', '1', '0'] \n",
      " Nota = 10587.26 \n",
      "\n",
      "*** Individuo 13*** \n",
      " Espaços = [0.751, 8.99e-05, 0.4, 0.29, 0.2, 0.0035, 0.496, 0.0424, 0.0544, 0.0319, 0.635, 0.87, 0.498, 0.527] \n",
      " Valores = [999.9, 2911.12, 4346.99, 3999.9, 2999.9, 2499.9, 199.9, 308.66, 429.9, 299.29, 849.0, 1199.89, 1999.9, 3999.9] \n",
      " Cromossomo = ['0', '1', '0', '0', '0', '0', '0', '1', '1', '1', '0', '0', '1', '1'] \n",
      " Nota = 9948.77 \n",
      "\n",
      "*** Individuo 14*** \n",
      " Espaços = [0.751, 8.99e-05, 0.4, 0.29, 0.2, 0.0035, 0.496, 0.0424, 0.0544, 0.0319, 0.635, 0.87, 0.498, 0.527] \n",
      " Valores = [999.9, 2911.12, 4346.99, 3999.9, 2999.9, 2499.9, 199.9, 308.66, 429.9, 299.29, 849.0, 1199.89, 1999.9, 3999.9] \n",
      " Cromossomo = ['0', '0', '0', '1', '0', '0', '1', '0', '1', '0', '1', '1', '1', '0'] \n",
      " Nota = 8678.49 \n",
      "\n",
      "*** Individuo 15*** \n",
      " Espaços = [0.751, 8.99e-05, 0.4, 0.29, 0.2, 0.0035, 0.496, 0.0424, 0.0544, 0.0319, 0.635, 0.87, 0.498, 0.527] \n",
      " Valores = [999.9, 2911.12, 4346.99, 3999.9, 2999.9, 2499.9, 199.9, 308.66, 429.9, 299.29, 849.0, 1199.89, 1999.9, 3999.9] \n",
      " Cromossomo = ['0', '0', '1', '0', '0', '0', '0', '0', '0', '0', '1', '1', '0', '0'] \n",
      " Nota = 6395.88 \n",
      "\n",
      "*** Individuo 16*** \n",
      " Espaços = [0.751, 8.99e-05, 0.4, 0.29, 0.2, 0.0035, 0.496, 0.0424, 0.0544, 0.0319, 0.635, 0.87, 0.498, 0.527] \n",
      " Valores = [999.9, 2911.12, 4346.99, 3999.9, 2999.9, 2499.9, 199.9, 308.66, 429.9, 299.29, 849.0, 1199.89, 1999.9, 3999.9] \n",
      " Cromossomo = ['1', '0', '1', '0', '0', '0', '1', '1', '1', '0', '0', '0', '0', '0'] \n",
      " Nota = 6285.3499999999985 \n",
      "\n",
      "*** Individuo 17*** \n",
      " Espaços = [0.751, 8.99e-05, 0.4, 0.29, 0.2, 0.0035, 0.496, 0.0424, 0.0544, 0.0319, 0.635, 0.87, 0.498, 0.527] \n",
      " Valores = [999.9, 2911.12, 4346.99, 3999.9, 2999.9, 2499.9, 199.9, 308.66, 429.9, 299.29, 849.0, 1199.89, 1999.9, 3999.9] \n",
      " Cromossomo = ['1', '0', '0', '0', '0', '0', '0', '1', '1', '0', '1', '0', '1', '0'] \n",
      " Nota = 4587.360000000001 \n",
      "\n",
      "*** Individuo 18*** \n",
      " Espaços = [0.751, 8.99e-05, 0.4, 0.29, 0.2, 0.0035, 0.496, 0.0424, 0.0544, 0.0319, 0.635, 0.87, 0.498, 0.527] \n",
      " Valores = [999.9, 2911.12, 4346.99, 3999.9, 2999.9, 2499.9, 199.9, 308.66, 429.9, 299.29, 849.0, 1199.89, 1999.9, 3999.9] \n",
      " Cromossomo = ['1', '0', '1', '0', '0', '1', '0', '0', '0', '1', '0', '1', '1', '1'] \n",
      " Nota = 1 \n",
      "\n",
      "*** Individuo 19*** \n",
      " Espaços = [0.751, 8.99e-05, 0.4, 0.29, 0.2, 0.0035, 0.496, 0.0424, 0.0544, 0.0319, 0.635, 0.87, 0.498, 0.527] \n",
      " Valores = [999.9, 2911.12, 4346.99, 3999.9, 2999.9, 2499.9, 199.9, 308.66, 429.9, 299.29, 849.0, 1199.89, 1999.9, 3999.9] \n",
      " Cromossomo = ['1', '1', '0', '1', '0', '1', '1', '1', '1', '1', '1', '0', '1', '1'] \n",
      " Nota = 1 \n",
      "\n"
     ]
    }
   ],
   "source": [
    "tamanho_populacao = 20\n",
    "ag = AlgoritimoGenetico(tamanho_populacao)\n",
    "ag.inicializa_populacao(espacos, valores, limite)\n",
    "\n",
    "for individuo in ag.populacao:\n",
    "    individuo.avaliacao()\n",
    "\n",
    "ag.ordena_populacao()\n",
    "\n",
    "for i in range(ag.tamanho_populacao):\n",
    "    print('*** Individuo %s*** \\n' % i,\n",
    "          'Espaços = %s \\n' % str(ag.populacao[i].espacos), \n",
    "          'Valores = %s \\n' % str(ag.populacao[i].valores),\n",
    "          'Cromossomo = %s \\n' % str(ag.populacao[i].cromossomo),\n",
    "          'Nota = %s \\n' % str(ag.populacao[i].nota_avaliacao)\n",
    "           )"
   ]
  },
  {
   "cell_type": "code",
   "execution_count": 97,
   "metadata": {},
   "outputs": [
    {
     "name": "stdout",
     "output_type": "stream",
     "text": [
      "Melhor Solução para o probema: ['1', '1', '1', '1', '0', '1', '0', '1', '0', '0', '0', '0', '0', '1'] Nota =  19066.37\n"
     ]
    }
   ],
   "source": [
    "tamanho_populacao = 20\n",
    "ag = AlgoritimoGenetico(tamanho_populacao)\n",
    "ag.inicializa_populacao(espacos, valores, limite)\n",
    "\n",
    "for individuo in ag.populacao:\n",
    "    individuo.avaliacao()\n",
    "\n",
    "ag.ordena_populacao()\n",
    "ag.melhor_individuo(ag.populacao[0])\n",
    "print('Melhor Solução para o probema: %s' % ag.melhor_solucao.cromossomo,\n",
    "      'Nota =  %s' % ag.melhor_solucao.nota_avaliacao\n",
    "     )"
   ]
  },
  {
   "cell_type": "code",
   "execution_count": 98,
   "metadata": {},
   "outputs": [
    {
     "name": "stdout",
     "output_type": "stream",
     "text": [
      "Soma =  244642.97000000006\n"
     ]
    }
   ],
   "source": [
    "tamanho_populacao = 20\n",
    "ag = AlgoritimoGenetico(tamanho_populacao)\n",
    "ag.inicializa_populacao(espacos, valores, limite)\n",
    "\n",
    "for individuo in ag.populacao:\n",
    "    individuo.avaliacao()\n",
    "\n",
    "ag.ordena_populacao()\n",
    "ag.melhor_individuo(ag.populacao[0])\n",
    "soma = ag.soma_avaliacoes()\n",
    "\n",
    "print('Soma =  %s' % soma)"
   ]
  },
  {
   "cell_type": "code",
   "execution_count": 99,
   "metadata": {},
   "outputs": [
    {
     "name": "stdout",
     "output_type": "stream",
     "text": [
      "Melhor: ['0', '1', '0', '1', '1', '1', '0', '1', '1', '0', '0', '0', '0', '1'] Valor: 17149.28 \n",
      "\n"
     ]
    }
   ],
   "source": [
    "tamanho_populacao = 4\n",
    "ag = AlgoritimoGenetico(tamanho_populacao)\n",
    "ag.inicializa_populacao(espacos, valores, limite)\n",
    "\n",
    "for individuo in ag.populacao:\n",
    "    individuo.avaliacao()\n",
    "\n",
    "ag.ordena_populacao()\n",
    "ag.melhor_individuo(ag.populacao[0])\n",
    "soma = ag.soma_avaliacoes()\n",
    "nova_populacao = []\n",
    "probabilidade_mutacao = 0.01\n",
    "\n",
    "for individuo_gerados in range(0, ag.tamanho_populacao, 2):\n",
    "    pai1 = ag.seleciona_pai(soma)\n",
    "    pai2 = ag.seleciona_pai(soma)\n",
    "\n",
    "    filhos = ag.populacao[pai1].crossover(ag.populacao[pai2])\n",
    "    \n",
    "    nova_populacao.append(filhos[0].mutacao(probabilidade_mutacao))\n",
    "    nova_populacao.append(filhos[1].mutacao(probabilidade_mutacao))\n",
    "\n",
    "ag.populacao = list(nova_populacao)\n",
    "\n",
    "for individuo in ag.populacao:\n",
    "    individuo.avaliacao()\n",
    "\n",
    "ag.ordena_populacao()\n",
    "ag.melhor_individuo(ag.populacao[0])\n",
    "soma = ag.soma_avaliacoes()\n",
    "\n",
    "print('Melhor: %s' % ag.melhor_solucao.cromossomo, \n",
    "       'Valor: %s \\n' % ag.melhor_solucao.nota_avaliacao)"
   ]
  },
  {
   "cell_type": "code",
   "execution_count": 100,
   "metadata": {},
   "outputs": [],
   "source": [
    "# definição da função final"
   ]
  },
  {
   "cell_type": "code",
   "execution_count": 101,
   "metadata": {},
   "outputs": [
    {
     "name": "stdout",
     "output_type": "stream",
     "text": [
      "G:0  -> Valor 18186.9 Espaço: 2.2973899 Cromossomo: ['0', '1', '1', '1', '0', '0', '1', '0', '1', '1', '0', '0', '1', '1'] \n",
      "G:1  -> Valor 17045.36 Espaço: 2.7288899 Cromossomo: ['0', '1', '1', '0', '1', '0', '0', '1', '1', '0', '1', '1', '0', '1'] \n",
      "G:2  -> Valor 17886.79 Espaço: 2.8808899000000006 Cromossomo: ['0', '1', '1', '0', '0', '1', '1', '0', '1', '1', '0', '1', '1', '1'] \n",
      "G:3  -> Valor 19545.26 Espaço: 2.7323899000000003 Cromossomo: ['0', '1', '1', '0', '1', '1', '0', '1', '1', '0', '1', '1', '0', '1'] \n",
      "G:4  -> Valor 17575.78 Espaço: 1.8048000000000002 Cromossomo: ['0', '0', '1', '1', '0', '1', '0', '0', '1', '1', '0', '0', '1', '1'] \n",
      "G:5  -> Valor 18424.78 Espaço: 2.4398 Cromossomo: ['0', '0', '1', '1', '0', '1', '0', '0', '1', '1', '1', '0', '1', '1'] \n",
      "G:6  -> Valor 18424.78 Espaço: 2.4398 Cromossomo: ['0', '0', '1', '1', '0', '1', '0', '0', '1', '1', '1', '0', '1', '1'] \n",
      "G:7  -> Valor 20496.170000000002 Espaço: 2.4763899 Cromossomo: ['1', '1', '1', '0', '1', '1', '0', '1', '1', '0', '0', '0', '1', '1'] \n",
      "G:8  -> Valor 23496.170000000006 Espaço: 2.0153899 Cromossomo: ['0', '1', '1', '1', '1', '1', '0', '1', '1', '0', '0', '0', '1', '1'] \n",
      "G:9  -> Valor 21295.56 Espaço: 2.0437899 Cromossomo: ['0', '1', '1', '1', '1', '0', '0', '1', '1', '1', '0', '0', '1', '1'] \n",
      "G:10  -> Valor 19795.560000000005 Espaço: 1.5202898999999999 Cromossomo: ['0', '1', '1', '1', '1', '1', '0', '1', '1', '1', '0', '0', '1', '0'] \n",
      "G:11  -> Valor 16486.9 Espaço: 1.9388899000000002 Cromossomo: ['1', '1', '1', '0', '1', '1', '0', '0', '1', '1', '0', '0', '1', '0'] \n",
      "G:12  -> Valor 17884.44 Espaço: 1.8472 Cromossomo: ['0', '0', '1', '1', '0', '1', '0', '1', '1', '1', '0', '0', '1', '1'] \n",
      "G:13  -> Valor 20585.05 Espaço: 2.0153 Cromossomo: ['0', '0', '1', '1', '1', '1', '0', '1', '1', '0', '0', '0', '1', '1'] \n",
      "G:14  -> Valor 20585.05 Espaço: 2.0153 Cromossomo: ['0', '0', '1', '1', '1', '1', '0', '1', '1', '0', '0', '0', '1', '1'] \n",
      "G:15  -> Valor 20884.34 Espaço: 2.0471999999999997 Cromossomo: ['0', '0', '1', '1', '1', '1', '0', '1', '1', '1', '0', '0', '1', '1'] \n",
      "G:16  -> Valor 21654.33 Espaço: 2.8628 Cromossomo: ['0', '0', '1', '1', '1', '1', '0', '1', '0', '1', '0', '1', '1', '1'] \n",
      "G:17  -> Valor 21654.33 Espaço: 2.8628 Cromossomo: ['0', '0', '1', '1', '1', '1', '0', '1', '0', '1', '0', '1', '1', '1'] \n",
      "G:18  -> Valor 22084.23 Espaço: 2.9172000000000002 Cromossomo: ['0', '0', '1', '1', '1', '1', '0', '1', '1', '1', '0', '1', '1', '1'] \n",
      "G:19  -> Valor 22084.23 Espaço: 2.9172000000000002 Cromossomo: ['0', '0', '1', '1', '1', '1', '0', '1', '1', '1', '0', '1', '1', '1'] \n",
      "G:20  -> Valor 22084.23 Espaço: 2.9172000000000002 Cromossomo: ['0', '0', '1', '1', '1', '1', '0', '1', '1', '1', '0', '1', '1', '1'] \n",
      "G:21  -> Valor 24686.690000000006 Espaço: 2.8748899000000003 Cromossomo: ['0', '1', '1', '1', '1', '1', '0', '0', '1', '1', '0', '1', '1', '1'] \n",
      "G:22  -> Valor 24565.450000000004 Espaço: 2.8628899 Cromossomo: ['0', '1', '1', '1', '1', '1', '0', '1', '0', '1', '0', '1', '1', '1'] \n",
      "G:23  -> Valor 24565.450000000004 Espaço: 2.8628899 Cromossomo: ['0', '1', '1', '1', '1', '1', '0', '1', '0', '1', '0', '1', '1', '1'] \n",
      "G:24  -> Valor 24565.450000000004 Espaço: 2.8628899 Cromossomo: ['0', '1', '1', '1', '1', '1', '0', '1', '0', '1', '0', '1', '1', '1'] \n",
      "G:25  -> Valor 23365.560000000005 Espaço: 1.9928899000000002 Cromossomo: ['0', '1', '1', '1', '1', '1', '0', '1', '0', '1', '0', '0', '1', '1'] \n",
      "G:26  -> Valor 23795.460000000006 Espaço: 2.0472899 Cromossomo: ['0', '1', '1', '1', '1', '1', '0', '1', '1', '1', '0', '0', '1', '1'] \n",
      "G:27  -> Valor 22084.23 Espaço: 2.9172000000000002 Cromossomo: ['0', '0', '1', '1', '1', '1', '0', '1', '1', '1', '0', '1', '1', '1'] \n",
      "G:28  -> Valor 22084.23 Espaço: 2.9172000000000002 Cromossomo: ['0', '0', '1', '1', '1', '1', '0', '1', '1', '1', '0', '1', '1', '1'] \n",
      "G:29  -> Valor 22084.23 Espaço: 2.9172000000000002 Cromossomo: ['0', '0', '1', '1', '1', '1', '0', '1', '1', '1', '0', '1', '1', '1'] \n",
      "G:30  -> Valor 22084.23 Espaço: 2.9172000000000002 Cromossomo: ['0', '0', '1', '1', '1', '1', '0', '1', '1', '1', '0', '1', '1', '1'] \n",
      "G:31  -> Valor 22084.23 Espaço: 2.9172000000000002 Cromossomo: ['0', '0', '1', '1', '1', '1', '0', '1', '1', '1', '0', '1', '1', '1'] \n",
      "G:32  -> Valor 22084.23 Espaço: 2.9172000000000002 Cromossomo: ['0', '0', '1', '1', '1', '1', '0', '1', '1', '1', '0', '1', '1', '1'] \n",
      "G:33  -> Valor 22084.23 Espaço: 2.9172000000000002 Cromossomo: ['0', '0', '1', '1', '1', '1', '0', '1', '1', '1', '0', '1', '1', '1'] \n",
      "G:34  -> Valor 22084.23 Espaço: 2.9172000000000002 Cromossomo: ['0', '0', '1', '1', '1', '1', '0', '1', '1', '1', '0', '1', '1', '1'] \n",
      "G:35  -> Valor 22084.23 Espaço: 2.9172000000000002 Cromossomo: ['0', '0', '1', '1', '1', '1', '0', '1', '1', '1', '0', '1', '1', '1'] \n",
      "G:36  -> Valor 22084.23 Espaço: 2.9172000000000002 Cromossomo: ['0', '0', '1', '1', '1', '1', '0', '1', '1', '1', '0', '1', '1', '1'] \n",
      "G:37  -> Valor 22084.23 Espaço: 2.9172000000000002 Cromossomo: ['0', '0', '1', '1', '1', '1', '0', '1', '1', '1', '0', '1', '1', '1'] \n",
      "G:38  -> Valor 22084.23 Espaço: 2.9172000000000002 Cromossomo: ['0', '0', '1', '1', '1', '1', '0', '1', '1', '1', '0', '1', '1', '1'] \n",
      "G:39  -> Valor 20884.34 Espaço: 2.0471999999999997 Cromossomo: ['0', '0', '1', '1', '1', '1', '0', '1', '1', '1', '0', '0', '1', '1'] \n",
      "G:40  -> Valor 23795.460000000006 Espaço: 2.0472899 Cromossomo: ['0', '1', '1', '1', '1', '1', '0', '1', '1', '1', '0', '0', '1', '1'] \n",
      "G:41  -> Valor 23795.460000000006 Espaço: 2.0472899 Cromossomo: ['0', '1', '1', '1', '1', '1', '0', '1', '1', '1', '0', '0', '1', '1'] \n",
      "G:42  -> Valor 23795.460000000006 Espaço: 2.0472899 Cromossomo: ['0', '1', '1', '1', '1', '1', '0', '1', '1', '1', '0', '0', '1', '1'] \n",
      "G:43  -> Valor 23795.460000000006 Espaço: 2.0472899 Cromossomo: ['0', '1', '1', '1', '1', '1', '0', '1', '1', '1', '0', '0', '1', '1'] \n",
      "G:44  -> Valor 23795.460000000006 Espaço: 2.0472899 Cromossomo: ['0', '1', '1', '1', '1', '1', '0', '1', '1', '1', '0', '0', '1', '1'] \n",
      "G:45  -> Valor 23795.460000000006 Espaço: 2.0472899 Cromossomo: ['0', '1', '1', '1', '1', '1', '0', '1', '1', '1', '0', '0', '1', '1'] \n",
      "G:46  -> Valor 23795.460000000006 Espaço: 2.0472899 Cromossomo: ['0', '1', '1', '1', '1', '1', '0', '1', '1', '1', '0', '0', '1', '1'] \n",
      "G:47  -> Valor 23795.460000000006 Espaço: 2.0472899 Cromossomo: ['0', '1', '1', '1', '1', '1', '0', '1', '1', '1', '0', '0', '1', '1'] \n",
      "G:48  -> Valor 24644.460000000006 Espaço: 2.6822899 Cromossomo: ['0', '1', '1', '1', '1', '1', '0', '1', '1', '1', '1', '0', '1', '1'] \n",
      "G:49  -> Valor 23795.460000000006 Espaço: 2.0472899 Cromossomo: ['0', '1', '1', '1', '1', '1', '0', '1', '1', '1', '0', '0', '1', '1'] \n",
      "G:50  -> Valor 23795.460000000006 Espaço: 2.0472899 Cromossomo: ['0', '1', '1', '1', '1', '1', '0', '1', '1', '1', '0', '0', '1', '1'] \n",
      "G:51  -> Valor 23795.460000000006 Espaço: 2.0472899 Cromossomo: ['0', '1', '1', '1', '1', '1', '0', '1', '1', '1', '0', '0', '1', '1'] \n",
      "G:52  -> Valor 23995.360000000008 Espaço: 2.5432899 Cromossomo: ['0', '1', '1', '1', '1', '1', '1', '1', '1', '1', '0', '0', '1', '1'] \n",
      "G:53  -> Valor 23995.360000000008 Espaço: 2.5432899 Cromossomo: ['0', '1', '1', '1', '1', '1', '1', '1', '1', '1', '0', '0', '1', '1'] \n",
      "G:54  -> Valor 23995.360000000008 Espaço: 2.5432899 Cromossomo: ['0', '1', '1', '1', '1', '1', '1', '1', '1', '1', '0', '0', '1', '1'] \n",
      "G:55  -> Valor 23995.360000000008 Espaço: 2.5432899 Cromossomo: ['0', '1', '1', '1', '1', '1', '1', '1', '1', '1', '0', '0', '1', '1'] \n",
      "G:56  -> Valor 23795.460000000006 Espaço: 2.0472899 Cromossomo: ['0', '1', '1', '1', '1', '1', '0', '1', '1', '1', '0', '0', '1', '1'] \n",
      "G:57  -> Valor 23995.360000000008 Espaço: 2.5432899 Cromossomo: ['0', '1', '1', '1', '1', '1', '1', '1', '1', '1', '0', '0', '1', '1'] \n",
      "G:58  -> Valor 24056.800000000003 Espaço: 2.7014899000000003 Cromossomo: ['1', '1', '1', '1', '1', '1', '0', '0', '0', '1', '0', '0', '1', '1'] \n",
      "G:59  -> Valor 24056.800000000003 Espaço: 2.7014899000000003 Cromossomo: ['1', '1', '1', '1', '1', '1', '0', '0', '0', '1', '0', '0', '1', '1'] \n",
      "G:60  -> Valor 23496.170000000006 Espaço: 2.0153899 Cromossomo: ['0', '1', '1', '1', '1', '1', '0', '1', '1', '0', '0', '0', '1', '1'] \n",
      "G:61  -> Valor 24345.170000000006 Espaço: 2.6503899000000004 Cromossomo: ['0', '1', '1', '1', '1', '1', '0', '1', '1', '0', '1', '0', '1', '1'] \n",
      "G:62  -> Valor 23795.460000000006 Espaço: 2.0472899 Cromossomo: ['0', '1', '1', '1', '1', '1', '0', '1', '1', '1', '0', '0', '1', '1'] \n",
      "G:63  -> Valor 23795.460000000006 Espaço: 2.0472899 Cromossomo: ['0', '1', '1', '1', '1', '1', '0', '1', '1', '1', '0', '0', '1', '1'] \n",
      "G:64  -> Valor 23995.360000000008 Espaço: 2.5432899 Cromossomo: ['0', '1', '1', '1', '1', '1', '1', '1', '1', '1', '0', '0', '1', '1'] \n",
      "G:65  -> Valor 23795.460000000006 Espaço: 2.0472899 Cromossomo: ['0', '1', '1', '1', '1', '1', '0', '1', '1', '1', '0', '0', '1', '1'] \n",
      "G:66  -> Valor 23795.460000000006 Espaço: 2.0472899 Cromossomo: ['0', '1', '1', '1', '1', '1', '0', '1', '1', '1', '0', '0', '1', '1'] \n",
      "G:67  -> Valor 23995.360000000008 Espaço: 2.5432899 Cromossomo: ['0', '1', '1', '1', '1', '1', '1', '1', '1', '1', '0', '0', '1', '1'] \n",
      "G:68  -> Valor 24565.450000000004 Espaço: 2.8628899 Cromossomo: ['0', '1', '1', '1', '1', '1', '0', '1', '0', '1', '0', '1', '1', '1'] \n",
      "G:69  -> Valor 24214.560000000005 Espaço: 2.6278899000000004 Cromossomo: ['0', '1', '1', '1', '1', '1', '0', '1', '0', '1', '1', '0', '1', '1'] \n",
      "G:70  -> Valor 23795.460000000006 Espaço: 2.0472899 Cromossomo: ['0', '1', '1', '1', '1', '1', '0', '1', '1', '1', '0', '0', '1', '1'] \n",
      "G:71  -> Valor 23795.460000000006 Espaço: 2.0472899 Cromossomo: ['0', '1', '1', '1', '1', '1', '0', '1', '1', '1', '0', '0', '1', '1'] \n",
      "G:72  -> Valor 23365.560000000005 Espaço: 1.9928899000000002 Cromossomo: ['0', '1', '1', '1', '1', '1', '0', '1', '0', '1', '0', '0', '1', '1'] \n",
      "G:73  -> Valor 24644.460000000006 Espaço: 2.6822899 Cromossomo: ['0', '1', '1', '1', '1', '1', '0', '1', '1', '1', '1', '0', '1', '1'] \n",
      "G:74  -> Valor 23365.560000000005 Espaço: 1.9928899000000002 Cromossomo: ['0', '1', '1', '1', '1', '1', '0', '1', '0', '1', '0', '0', '1', '1'] \n",
      "G:75  -> Valor 24644.460000000006 Espaço: 2.6822899 Cromossomo: ['0', '1', '1', '1', '1', '1', '0', '1', '1', '1', '1', '0', '1', '1'] \n",
      "G:76  -> Valor 24644.460000000006 Espaço: 2.6822899 Cromossomo: ['0', '1', '1', '1', '1', '1', '0', '1', '1', '1', '1', '0', '1', '1'] \n",
      "G:77  -> Valor 24644.460000000006 Espaço: 2.6822899 Cromossomo: ['0', '1', '1', '1', '1', '1', '0', '1', '1', '1', '1', '0', '1', '1'] \n",
      "G:78  -> Valor 24644.460000000006 Espaço: 2.6822899 Cromossomo: ['0', '1', '1', '1', '1', '1', '0', '1', '1', '1', '1', '0', '1', '1'] \n",
      "G:79  -> Valor 24644.460000000006 Espaço: 2.6822899 Cromossomo: ['0', '1', '1', '1', '1', '1', '0', '1', '1', '1', '1', '0', '1', '1'] \n",
      "G:80  -> Valor 24644.460000000006 Espaço: 2.6822899 Cromossomo: ['0', '1', '1', '1', '1', '1', '0', '1', '1', '1', '1', '0', '1', '1'] \n",
      "G:81  -> Valor 24644.460000000006 Espaço: 2.6822899 Cromossomo: ['0', '1', '1', '1', '1', '1', '0', '1', '1', '1', '1', '0', '1', '1'] \n",
      "G:82  -> Valor 24644.460000000006 Espaço: 2.6822899 Cromossomo: ['0', '1', '1', '1', '1', '1', '0', '1', '1', '1', '1', '0', '1', '1'] \n",
      "G:83  -> Valor 24644.460000000006 Espaço: 2.6822899 Cromossomo: ['0', '1', '1', '1', '1', '1', '0', '1', '1', '1', '1', '0', '1', '1'] \n",
      "G:84  -> Valor 24644.460000000006 Espaço: 2.6822899 Cromossomo: ['0', '1', '1', '1', '1', '1', '0', '1', '1', '1', '1', '0', '1', '1'] \n",
      "G:85  -> Valor 24644.460000000006 Espaço: 2.6822899 Cromossomo: ['0', '1', '1', '1', '1', '1', '0', '1', '1', '1', '1', '0', '1', '1'] \n",
      "G:86  -> Valor 24644.460000000006 Espaço: 2.6822899 Cromossomo: ['0', '1', '1', '1', '1', '1', '0', '1', '1', '1', '1', '0', '1', '1'] \n",
      "G:87  -> Valor 24644.460000000006 Espaço: 2.6822899 Cromossomo: ['0', '1', '1', '1', '1', '1', '0', '1', '1', '1', '1', '0', '1', '1'] \n",
      "G:88  -> Valor 24644.460000000006 Espaço: 2.6822899 Cromossomo: ['0', '1', '1', '1', '1', '1', '0', '1', '1', '1', '1', '0', '1', '1'] \n",
      "G:89  -> Valor 24644.460000000006 Espaço: 2.6822899 Cromossomo: ['0', '1', '1', '1', '1', '1', '0', '1', '1', '1', '1', '0', '1', '1'] \n",
      "G:90  -> Valor 24644.460000000006 Espaço: 2.6822899 Cromossomo: ['0', '1', '1', '1', '1', '1', '0', '1', '1', '1', '1', '0', '1', '1'] \n",
      "G:91  -> Valor 24644.460000000006 Espaço: 2.6822899 Cromossomo: ['0', '1', '1', '1', '1', '1', '0', '1', '1', '1', '1', '0', '1', '1'] \n",
      "G:92  -> Valor 24644.460000000006 Espaço: 2.6822899 Cromossomo: ['0', '1', '1', '1', '1', '1', '0', '1', '1', '1', '1', '0', '1', '1'] \n",
      "G:93  -> Valor 24644.460000000006 Espaço: 2.6822899 Cromossomo: ['0', '1', '1', '1', '1', '1', '0', '1', '1', '1', '1', '0', '1', '1'] \n",
      "G:94  -> Valor 24644.460000000006 Espaço: 2.6822899 Cromossomo: ['0', '1', '1', '1', '1', '1', '0', '1', '1', '1', '1', '0', '1', '1'] \n",
      "G:95  -> Valor 24644.460000000006 Espaço: 2.6822899 Cromossomo: ['0', '1', '1', '1', '1', '1', '0', '1', '1', '1', '1', '0', '1', '1'] \n",
      "G:96  -> Valor 24644.460000000006 Espaço: 2.6822899 Cromossomo: ['0', '1', '1', '1', '1', '1', '0', '1', '1', '1', '1', '0', '1', '1'] \n",
      "G:97  -> Valor 24644.460000000006 Espaço: 2.6822899 Cromossomo: ['0', '1', '1', '1', '1', '1', '0', '1', '1', '1', '1', '0', '1', '1'] \n",
      "G:98  -> Valor 24644.460000000006 Espaço: 2.6822899 Cromossomo: ['0', '1', '1', '1', '1', '1', '0', '1', '1', '1', '1', '0', '1', '1'] \n",
      "G:99  -> Valor 24644.460000000006 Espaço: 2.6822899 Cromossomo: ['0', '1', '1', '1', '1', '1', '0', '1', '1', '1', '1', '0', '1', '1'] \n",
      "G:100  -> Valor 24644.460000000006 Espaço: 2.6822899 Cromossomo: ['0', '1', '1', '1', '1', '1', '0', '1', '1', '1', '1', '0', '1', '1'] \n",
      "G:101  -> Valor 24644.460000000006 Espaço: 2.6822899 Cromossomo: ['0', '1', '1', '1', '1', '1', '0', '1', '1', '1', '1', '0', '1', '1'] \n",
      "G:102  -> Valor 24644.460000000006 Espaço: 2.6822899 Cromossomo: ['0', '1', '1', '1', '1', '1', '0', '1', '1', '1', '1', '0', '1', '1'] \n",
      "G:103  -> Valor 24644.460000000006 Espaço: 2.6822899 Cromossomo: ['0', '1', '1', '1', '1', '1', '0', '1', '1', '1', '1', '0', '1', '1'] \n",
      "G:104  -> Valor 24644.460000000006 Espaço: 2.6822899 Cromossomo: ['0', '1', '1', '1', '1', '1', '0', '1', '1', '1', '1', '0', '1', '1'] \n",
      "G:105  -> Valor 24644.460000000006 Espaço: 2.6822899 Cromossomo: ['0', '1', '1', '1', '1', '1', '0', '1', '1', '1', '1', '0', '1', '1'] \n",
      "G:106  -> Valor 24644.460000000006 Espaço: 2.6822899 Cromossomo: ['0', '1', '1', '1', '1', '1', '0', '1', '1', '1', '1', '0', '1', '1'] \n",
      "G:107  -> Valor 24644.460000000006 Espaço: 2.6822899 Cromossomo: ['0', '1', '1', '1', '1', '1', '0', '1', '1', '1', '1', '0', '1', '1'] \n",
      "G:108  -> Valor 24644.460000000006 Espaço: 2.6822899 Cromossomo: ['0', '1', '1', '1', '1', '1', '0', '1', '1', '1', '1', '0', '1', '1'] \n",
      "G:109  -> Valor 24644.460000000006 Espaço: 2.6822899 Cromossomo: ['0', '1', '1', '1', '1', '1', '0', '1', '1', '1', '1', '0', '1', '1'] \n",
      "G:110  -> Valor 24644.460000000006 Espaço: 2.6822899 Cromossomo: ['0', '1', '1', '1', '1', '1', '0', '1', '1', '1', '1', '0', '1', '1'] \n",
      "G:111  -> Valor 24644.460000000006 Espaço: 2.6822899 Cromossomo: ['0', '1', '1', '1', '1', '1', '0', '1', '1', '1', '1', '0', '1', '1'] \n",
      "G:112  -> Valor 24644.460000000006 Espaço: 2.6822899 Cromossomo: ['0', '1', '1', '1', '1', '1', '0', '1', '1', '1', '1', '0', '1', '1'] \n",
      "G:113  -> Valor 24644.460000000006 Espaço: 2.6822899 Cromossomo: ['0', '1', '1', '1', '1', '1', '0', '1', '1', '1', '1', '0', '1', '1'] \n",
      "G:114  -> Valor 24644.460000000006 Espaço: 2.6822899 Cromossomo: ['0', '1', '1', '1', '1', '1', '0', '1', '1', '1', '1', '0', '1', '1'] \n",
      "G:115  -> Valor 24644.460000000006 Espaço: 2.6822899 Cromossomo: ['0', '1', '1', '1', '1', '1', '0', '1', '1', '1', '1', '0', '1', '1'] \n",
      "G:116  -> Valor 24644.460000000006 Espaço: 2.6822899 Cromossomo: ['0', '1', '1', '1', '1', '1', '0', '1', '1', '1', '1', '0', '1', '1'] \n",
      "G:117  -> Valor 24644.460000000006 Espaço: 2.6822899 Cromossomo: ['0', '1', '1', '1', '1', '1', '0', '1', '1', '1', '1', '0', '1', '1'] \n",
      "G:118  -> Valor 24644.460000000006 Espaço: 2.6822899 Cromossomo: ['0', '1', '1', '1', '1', '1', '0', '1', '1', '1', '1', '0', '1', '1'] \n",
      "G:119  -> Valor 24644.460000000006 Espaço: 2.6822899 Cromossomo: ['0', '1', '1', '1', '1', '1', '0', '1', '1', '1', '1', '0', '1', '1'] \n",
      "G:120  -> Valor 24644.460000000006 Espaço: 2.6822899 Cromossomo: ['0', '1', '1', '1', '1', '1', '0', '1', '1', '1', '1', '0', '1', '1'] \n",
      "G:121  -> Valor 24644.460000000006 Espaço: 2.6822899 Cromossomo: ['0', '1', '1', '1', '1', '1', '0', '1', '1', '1', '1', '0', '1', '1'] \n",
      "G:122  -> Valor 24644.460000000006 Espaço: 2.6822899 Cromossomo: ['0', '1', '1', '1', '1', '1', '0', '1', '1', '1', '1', '0', '1', '1'] \n",
      "G:123  -> Valor 24644.460000000006 Espaço: 2.6822899 Cromossomo: ['0', '1', '1', '1', '1', '1', '0', '1', '1', '1', '1', '0', '1', '1'] \n",
      "G:124  -> Valor 24644.460000000006 Espaço: 2.6822899 Cromossomo: ['0', '1', '1', '1', '1', '1', '0', '1', '1', '1', '1', '0', '1', '1'] \n",
      "G:125  -> Valor 24644.460000000006 Espaço: 2.6822899 Cromossomo: ['0', '1', '1', '1', '1', '1', '0', '1', '1', '1', '1', '0', '1', '1'] \n",
      "G:126  -> Valor 24644.460000000006 Espaço: 2.6822899 Cromossomo: ['0', '1', '1', '1', '1', '1', '0', '1', '1', '1', '1', '0', '1', '1'] \n",
      "G:127  -> Valor 24644.460000000006 Espaço: 2.6822899 Cromossomo: ['0', '1', '1', '1', '1', '1', '0', '1', '1', '1', '1', '0', '1', '1'] \n",
      "G:128  -> Valor 24644.460000000006 Espaço: 2.6822899 Cromossomo: ['0', '1', '1', '1', '1', '1', '0', '1', '1', '1', '1', '0', '1', '1'] \n",
      "G:129  -> Valor 24644.460000000006 Espaço: 2.6822899 Cromossomo: ['0', '1', '1', '1', '1', '1', '0', '1', '1', '1', '1', '0', '1', '1'] \n",
      "G:130  -> Valor 24644.460000000006 Espaço: 2.6822899 Cromossomo: ['0', '1', '1', '1', '1', '1', '0', '1', '1', '1', '1', '0', '1', '1'] \n",
      "G:131  -> Valor 24644.460000000006 Espaço: 2.6822899 Cromossomo: ['0', '1', '1', '1', '1', '1', '0', '1', '1', '1', '1', '0', '1', '1'] \n",
      "G:132  -> Valor 24644.460000000006 Espaço: 2.6822899 Cromossomo: ['0', '1', '1', '1', '1', '1', '0', '1', '1', '1', '1', '0', '1', '1'] \n",
      "G:133  -> Valor 24644.460000000006 Espaço: 2.6822899 Cromossomo: ['0', '1', '1', '1', '1', '1', '0', '1', '1', '1', '1', '0', '1', '1'] \n",
      "G:134  -> Valor 24644.460000000006 Espaço: 2.6822899 Cromossomo: ['0', '1', '1', '1', '1', '1', '0', '1', '1', '1', '1', '0', '1', '1'] \n",
      "G:135  -> Valor 24644.460000000006 Espaço: 2.6822899 Cromossomo: ['0', '1', '1', '1', '1', '1', '0', '1', '1', '1', '1', '0', '1', '1'] \n",
      "G:136  -> Valor 24644.460000000006 Espaço: 2.6822899 Cromossomo: ['0', '1', '1', '1', '1', '1', '0', '1', '1', '1', '1', '0', '1', '1'] \n",
      "G:137  -> Valor 24644.460000000006 Espaço: 2.6822899 Cromossomo: ['0', '1', '1', '1', '1', '1', '0', '1', '1', '1', '1', '0', '1', '1'] \n",
      "G:138  -> Valor 24644.460000000006 Espaço: 2.6822899 Cromossomo: ['0', '1', '1', '1', '1', '1', '0', '1', '1', '1', '1', '0', '1', '1'] \n",
      "G:139  -> Valor 24644.460000000006 Espaço: 2.6822899 Cromossomo: ['0', '1', '1', '1', '1', '1', '0', '1', '1', '1', '1', '0', '1', '1'] \n",
      "G:140  -> Valor 24644.460000000006 Espaço: 2.6822899 Cromossomo: ['0', '1', '1', '1', '1', '1', '0', '1', '1', '1', '1', '0', '1', '1'] \n",
      "G:141  -> Valor 24644.460000000006 Espaço: 2.6822899 Cromossomo: ['0', '1', '1', '1', '1', '1', '0', '1', '1', '1', '1', '0', '1', '1'] \n",
      "G:142  -> Valor 24644.460000000006 Espaço: 2.6822899 Cromossomo: ['0', '1', '1', '1', '1', '1', '0', '1', '1', '1', '1', '0', '1', '1'] \n",
      "G:143  -> Valor 24644.460000000006 Espaço: 2.6822899 Cromossomo: ['0', '1', '1', '1', '1', '1', '0', '1', '1', '1', '1', '0', '1', '1'] \n",
      "G:144  -> Valor 24644.460000000006 Espaço: 2.6822899 Cromossomo: ['0', '1', '1', '1', '1', '1', '0', '1', '1', '1', '1', '0', '1', '1'] \n",
      "G:145  -> Valor 24644.460000000006 Espaço: 2.6822899 Cromossomo: ['0', '1', '1', '1', '1', '1', '0', '1', '1', '1', '1', '0', '1', '1'] \n",
      "G:146  -> Valor 24644.460000000006 Espaço: 2.6822899 Cromossomo: ['0', '1', '1', '1', '1', '1', '0', '1', '1', '1', '1', '0', '1', '1'] \n",
      "G:147  -> Valor 24644.460000000006 Espaço: 2.6822899 Cromossomo: ['0', '1', '1', '1', '1', '1', '0', '1', '1', '1', '1', '0', '1', '1'] \n",
      "G:148  -> Valor 24644.460000000006 Espaço: 2.6822899 Cromossomo: ['0', '1', '1', '1', '1', '1', '0', '1', '1', '1', '1', '0', '1', '1'] \n",
      "G:149  -> Valor 24644.460000000006 Espaço: 2.6822899 Cromossomo: ['0', '1', '1', '1', '1', '1', '0', '1', '1', '1', '1', '0', '1', '1'] \n",
      "G:150  -> Valor 24644.460000000006 Espaço: 2.6822899 Cromossomo: ['0', '1', '1', '1', '1', '1', '0', '1', '1', '1', '1', '0', '1', '1'] \n",
      "G:151  -> Valor 24644.460000000006 Espaço: 2.6822899 Cromossomo: ['0', '1', '1', '1', '1', '1', '0', '1', '1', '1', '1', '0', '1', '1'] \n",
      "G:152  -> Valor 24644.460000000006 Espaço: 2.6822899 Cromossomo: ['0', '1', '1', '1', '1', '1', '0', '1', '1', '1', '1', '0', '1', '1'] \n",
      "G:153  -> Valor 24644.460000000006 Espaço: 2.6822899 Cromossomo: ['0', '1', '1', '1', '1', '1', '0', '1', '1', '1', '1', '0', '1', '1'] \n",
      "G:154  -> Valor 24644.460000000006 Espaço: 2.6822899 Cromossomo: ['0', '1', '1', '1', '1', '1', '0', '1', '1', '1', '1', '0', '1', '1'] \n",
      "G:155  -> Valor 24644.460000000006 Espaço: 2.6822899 Cromossomo: ['0', '1', '1', '1', '1', '1', '0', '1', '1', '1', '1', '0', '1', '1'] \n",
      "G:156  -> Valor 24644.460000000006 Espaço: 2.6822899 Cromossomo: ['0', '1', '1', '1', '1', '1', '0', '1', '1', '1', '1', '0', '1', '1'] \n",
      "G:157  -> Valor 24644.460000000006 Espaço: 2.6822899 Cromossomo: ['0', '1', '1', '1', '1', '1', '0', '1', '1', '1', '1', '0', '1', '1'] \n",
      "G:158  -> Valor 24644.460000000006 Espaço: 2.6822899 Cromossomo: ['0', '1', '1', '1', '1', '1', '0', '1', '1', '1', '1', '0', '1', '1'] \n",
      "G:159  -> Valor 24644.460000000006 Espaço: 2.6822899 Cromossomo: ['0', '1', '1', '1', '1', '1', '0', '1', '1', '1', '1', '0', '1', '1'] \n",
      "G:160  -> Valor 24644.460000000006 Espaço: 2.6822899 Cromossomo: ['0', '1', '1', '1', '1', '1', '0', '1', '1', '1', '1', '0', '1', '1'] \n",
      "G:161  -> Valor 24644.460000000006 Espaço: 2.6822899 Cromossomo: ['0', '1', '1', '1', '1', '1', '0', '1', '1', '1', '1', '0', '1', '1'] \n",
      "G:162  -> Valor 23496.170000000006 Espaço: 2.0153899 Cromossomo: ['0', '1', '1', '1', '1', '1', '0', '1', '1', '0', '0', '0', '1', '1'] \n",
      "G:163  -> Valor 24644.460000000006 Espaço: 2.6822899 Cromossomo: ['0', '1', '1', '1', '1', '1', '0', '1', '1', '1', '1', '0', '1', '1'] \n",
      "G:164  -> Valor 23496.170000000006 Espaço: 2.0153899 Cromossomo: ['0', '1', '1', '1', '1', '1', '0', '1', '1', '0', '0', '0', '1', '1'] \n",
      "G:165  -> Valor 23496.170000000006 Espaço: 2.0153899 Cromossomo: ['0', '1', '1', '1', '1', '1', '0', '1', '1', '0', '0', '0', '1', '1'] \n",
      "G:166  -> Valor 24644.460000000006 Espaço: 2.6822899 Cromossomo: ['0', '1', '1', '1', '1', '1', '0', '1', '1', '1', '1', '0', '1', '1'] \n",
      "G:167  -> Valor 24644.460000000006 Espaço: 2.6822899 Cromossomo: ['0', '1', '1', '1', '1', '1', '0', '1', '1', '1', '1', '0', '1', '1'] \n",
      "G:168  -> Valor 23915.270000000004 Espaço: 2.5959899 Cromossomo: ['0', '1', '1', '1', '1', '1', '0', '1', '0', '0', '1', '0', '1', '1'] \n",
      "G:169  -> Valor 23915.270000000004 Espaço: 2.5959899 Cromossomo: ['0', '1', '1', '1', '1', '1', '0', '1', '0', '0', '1', '0', '1', '1'] \n",
      "G:170  -> Valor 23915.270000000004 Espaço: 2.5959899 Cromossomo: ['0', '1', '1', '1', '1', '1', '0', '1', '0', '0', '1', '0', '1', '1'] \n",
      "G:171  -> Valor 23915.270000000004 Espaço: 2.5959899 Cromossomo: ['0', '1', '1', '1', '1', '1', '0', '1', '0', '0', '1', '0', '1', '1'] \n",
      "G:172  -> Valor 24345.170000000006 Espaço: 2.6503899000000004 Cromossomo: ['0', '1', '1', '1', '1', '1', '0', '1', '1', '0', '1', '0', '1', '1'] \n",
      "G:173  -> Valor 24345.170000000006 Espaço: 2.6503899000000004 Cromossomo: ['0', '1', '1', '1', '1', '1', '0', '1', '1', '0', '1', '0', '1', '1'] \n",
      "G:174  -> Valor 24345.170000000006 Espaço: 2.6503899000000004 Cromossomo: ['0', '1', '1', '1', '1', '1', '0', '1', '1', '0', '1', '0', '1', '1'] \n",
      "G:175  -> Valor 24345.170000000006 Espaço: 2.6503899000000004 Cromossomo: ['0', '1', '1', '1', '1', '1', '0', '1', '1', '0', '1', '0', '1', '1'] \n",
      "G:176  -> Valor 24345.170000000006 Espaço: 2.6503899000000004 Cromossomo: ['0', '1', '1', '1', '1', '1', '0', '1', '1', '0', '1', '0', '1', '1'] \n",
      "G:177  -> Valor 24345.170000000006 Espaço: 2.6503899000000004 Cromossomo: ['0', '1', '1', '1', '1', '1', '0', '1', '1', '0', '1', '0', '1', '1'] \n",
      "G:178  -> Valor 24345.170000000006 Espaço: 2.6503899000000004 Cromossomo: ['0', '1', '1', '1', '1', '1', '0', '1', '1', '0', '1', '0', '1', '1'] \n",
      "G:179  -> Valor 24345.170000000006 Espaço: 2.6503899000000004 Cromossomo: ['0', '1', '1', '1', '1', '1', '0', '1', '1', '0', '1', '0', '1', '1'] \n",
      "G:180  -> Valor 24345.170000000006 Espaço: 2.6503899000000004 Cromossomo: ['0', '1', '1', '1', '1', '1', '0', '1', '1', '0', '1', '0', '1', '1'] \n",
      "G:181  -> Valor 24644.460000000006 Espaço: 2.6822899 Cromossomo: ['0', '1', '1', '1', '1', '1', '0', '1', '1', '1', '1', '0', '1', '1'] \n",
      "G:182  -> Valor 24644.460000000006 Espaço: 2.6822899 Cromossomo: ['0', '1', '1', '1', '1', '1', '0', '1', '1', '1', '1', '0', '1', '1'] \n",
      "G:183  -> Valor 24644.460000000006 Espaço: 2.6822899 Cromossomo: ['0', '1', '1', '1', '1', '1', '0', '1', '1', '1', '1', '0', '1', '1'] \n",
      "G:184  -> Valor 24644.460000000006 Espaço: 2.6822899 Cromossomo: ['0', '1', '1', '1', '1', '1', '0', '1', '1', '1', '1', '0', '1', '1'] \n",
      "G:185  -> Valor 24644.460000000006 Espaço: 2.6822899 Cromossomo: ['0', '1', '1', '1', '1', '1', '0', '1', '1', '1', '1', '0', '1', '1'] \n",
      "G:186  -> Valor 24644.460000000006 Espaço: 2.6822899 Cromossomo: ['0', '1', '1', '1', '1', '1', '0', '1', '1', '1', '1', '0', '1', '1'] \n",
      "G:187  -> Valor 24644.460000000006 Espaço: 2.6822899 Cromossomo: ['0', '1', '1', '1', '1', '1', '0', '1', '1', '1', '1', '0', '1', '1'] \n",
      "G:188  -> Valor 24644.460000000006 Espaço: 2.6822899 Cromossomo: ['0', '1', '1', '1', '1', '1', '0', '1', '1', '1', '1', '0', '1', '1'] \n",
      "G:189  -> Valor 24644.460000000006 Espaço: 2.6822899 Cromossomo: ['0', '1', '1', '1', '1', '1', '0', '1', '1', '1', '1', '0', '1', '1'] \n",
      "G:190  -> Valor 24644.460000000006 Espaço: 2.6822899 Cromossomo: ['0', '1', '1', '1', '1', '1', '0', '1', '1', '1', '1', '0', '1', '1'] \n",
      "G:191  -> Valor 24644.460000000006 Espaço: 2.6822899 Cromossomo: ['0', '1', '1', '1', '1', '1', '0', '1', '1', '1', '1', '0', '1', '1'] \n",
      "G:192  -> Valor 24644.460000000006 Espaço: 2.6822899 Cromossomo: ['0', '1', '1', '1', '1', '1', '0', '1', '1', '1', '1', '0', '1', '1'] \n",
      "G:193  -> Valor 24644.460000000006 Espaço: 2.6822899 Cromossomo: ['0', '1', '1', '1', '1', '1', '0', '1', '1', '1', '1', '0', '1', '1'] \n",
      "G:194  -> Valor 24644.460000000006 Espaço: 2.6822899 Cromossomo: ['0', '1', '1', '1', '1', '1', '0', '1', '1', '1', '1', '0', '1', '1'] \n",
      "G:195  -> Valor 24644.460000000006 Espaço: 2.6822899 Cromossomo: ['0', '1', '1', '1', '1', '1', '0', '1', '1', '1', '1', '0', '1', '1'] \n",
      "G:196  -> Valor 24644.460000000006 Espaço: 2.6822899 Cromossomo: ['0', '1', '1', '1', '1', '1', '0', '1', '1', '1', '1', '0', '1', '1'] \n",
      "G:197  -> Valor 24644.460000000006 Espaço: 2.6822899 Cromossomo: ['0', '1', '1', '1', '1', '1', '0', '1', '1', '1', '1', '0', '1', '1'] \n",
      "G:198  -> Valor 24644.460000000006 Espaço: 2.6822899 Cromossomo: ['0', '1', '1', '1', '1', '1', '0', '1', '1', '1', '1', '0', '1', '1'] \n",
      "G:199  -> Valor 24345.170000000006 Espaço: 2.6503899000000004 Cromossomo: ['0', '1', '1', '1', '1', '1', '0', '1', '1', '0', '1', '0', '1', '1'] \n",
      "G:200  -> Valor 24345.170000000006 Espaço: 2.6503899000000004 Cromossomo: ['0', '1', '1', '1', '1', '1', '0', '1', '1', '0', '1', '0', '1', '1'] \n",
      "\n",
      " Melhor Solução --> G: 21 Valor: 24686.690000000006 Espaço: 2.8748899000000003 Cromossomo: ['0', '1', '1', '1', '1', '1', '0', '0', '1', '1', '0', '1', '1', '1']\n",
      "Nome: Iphone 6 R$ 2911.12\n",
      "Nome: TV 55 R$ 4346.99\n",
      "Nome: TV 50 R$ 3999.9\n",
      "Nome: TV 42 R$ 2999.9\n",
      "Nome: Notebook Dell R$ 2499.9\n",
      "Nome: Microondas Eletrolux R$ 308.66\n",
      "Nome: Microondas LG R$ 429.9\n",
      "Nome: Geladeira Brastemp R$ 849.0\n",
      "Nome: Notebook Lenovo R$ 1999.9\n",
      "Nome: Notebook Asus R$ 3999.9\n"
     ]
    },
    {
     "data": {
      "image/png": "[encoded data removed]",
      "text/plain": [
       "<Figure size 432x288 with 1 Axes>"
      ]
     },
     "metadata": {
      "needs_background": "light"
     },
     "output_type": "display_data"
    }
   ],
   "source": [
    "tamanho_populacao = 20\n",
    "limite = 3\n",
    "taxa_mutacao = 0.01\n",
    "numero_geracoes = 200\n",
    "\n",
    "\n",
    "ag = AlgoritimoGenetico(tamanho_populacao)\n",
    "resultado = ag.resolver(taxa_mutacao, numero_geracoes, espacos, valores, limite)\n",
    "\n",
    "for i in range(len(lista_produtos)):\n",
    "    if resultado[i] == '1':\n",
    "        print('Nome: %s R$ %s' % (lista_produtos[i].nome, \n",
    "                                  lista_produtos[i].valor))\n",
    "\n",
    "#for valor in ag.lista_solucoes:\n",
    "#    print(valor)\n",
    "\n",
    "plt.plot(ag.lista_solucoes)\n",
    "plt.title('Acompanhamento dos valores')\n",
    "plt.show();"
   ]
  },
  {
   "cell_type": "code",
   "execution_count": null,
   "metadata": {},
   "outputs": [],
   "source": []
  },
  {
   "cell_type": "code",
   "execution_count": null,
   "metadata": {},
   "outputs": [],
   "source": []
  }
 ],
 "metadata": {
  "interpreter": {
   "hash": "b3ba2566441a7c06988d0923437866b63cedc61552a5af99d1f4fb67d367b25f"
  },
  "kernelspec": {
   "display_name": "Python 3.8.8 ('base')",
   "language": "python",
   "name": "python3"
  },
  "language_info": {
   "codemirror_mode": {
    "name": "ipython",
    "version": 3
   },
   "file_extension": ".py",
   "mimetype": "text/x-python",
   "name": "python",
   "nbconvert_exporter": "python",
   "pygments_lexer": "ipython3",
   "version": "3.8.8"
  },
  "orig_nbformat": 4
 },
 "nbformat": 4,
 "nbformat_minor": 2
}
