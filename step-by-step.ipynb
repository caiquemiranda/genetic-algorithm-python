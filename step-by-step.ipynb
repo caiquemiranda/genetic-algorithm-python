{
 "cells": [
  {
   "cell_type": "markdown",
   "metadata": {},
   "source": [
    "### Problema\n",
    "\n",
    "Em uma trasnportadora com caminhoes de espaço interno do baú de 3m³ temos que alocar produtos que em sua soma total ocupam 4.79m³, qual melhor alocação de produtos para gerar o maior lucro, tendo em mente ocupar os caminhão com os produtos com maior lucro?"
   ]
  },
  {
   "cell_type": "code",
   "execution_count": 1,
   "metadata": {},
   "outputs": [],
   "source": [
    "from random import random"
   ]
  },
  {
   "cell_type": "code",
   "execution_count": 2,
   "metadata": {},
   "outputs": [],
   "source": [
    "class Produto():\n",
    "    def __init__(self, nome, espaco, valor):\n",
    "        self.nome = nome\n",
    "        self.espaco = espaco\n",
    "        self.valor = valor       "
   ]
  },
  {
   "cell_type": "code",
   "execution_count": 3,
   "metadata": {},
   "outputs": [],
   "source": [
    "lista_produtos = []\n",
    "lista_produtos.append(Produto('Geladeira Dako', 0.751, 999.90))\n",
    "lista_produtos.append(Produto('Iphone 6', 0.0000899, 2911.12))\n",
    "lista_produtos.append(Produto('TV 55', 0.400, 4346.99))\n",
    "lista_produtos.append(Produto('TV 50', 0.290, 3999.90))\n",
    "lista_produtos.append(Produto('TV 42', 0.200, 2999.90))\n",
    "lista_produtos.append(Produto('Notebook Dell', 0.00350, 2499.90))\n",
    "lista_produtos.append(Produto('Ventilador Panasonic', 0.496, 199.90))\n",
    "lista_produtos.append(Produto('Microondas Eletrolux', 0.0424, 308.66))\n",
    "lista_produtos.append(Produto('Microondas LG', 0.0544, 429.90))\n",
    "lista_produtos.append(Produto('Microondas Panasonic', 0.0319, 299.29))\n",
    "lista_produtos.append(Produto('Geladeira Brastemp', 0.635, 849.00))\n",
    "lista_produtos.append(Produto('Geladeira Consul', 0.870, 1199.89))\n",
    "lista_produtos.append(Produto('Notebook Lenovo', 0.498, 1999.90))\n",
    "lista_produtos.append(Produto('Notebook Asus', 0.527, 3999.90))"
   ]
  },
  {
   "cell_type": "code",
   "execution_count": 4,
   "metadata": {},
   "outputs": [
    {
     "name": "stdout",
     "output_type": "stream",
     "text": [
      "<__main__.Produto object at 0x000001C369B84340>\n",
      "<__main__.Produto object at 0x000001C369BA5FD0>\n",
      "<__main__.Produto object at 0x000001C369B99250>\n",
      "<__main__.Produto object at 0x000001C369B99400>\n",
      "<__main__.Produto object at 0x000001C369F02DF0>\n",
      "<__main__.Produto object at 0x000001C369F02E50>\n",
      "<__main__.Produto object at 0x000001C369F02F10>\n",
      "<__main__.Produto object at 0x000001C369F02F70>\n",
      "<__main__.Produto object at 0x000001C369F02FD0>\n",
      "<__main__.Produto object at 0x000001C369F02670>\n",
      "<__main__.Produto object at 0x000001C369F027C0>\n",
      "<__main__.Produto object at 0x000001C369EFD070>\n",
      "<__main__.Produto object at 0x000001C369EFD0D0>\n",
      "<__main__.Produto object at 0x000001C369EFD130>\n"
     ]
    }
   ],
   "source": [
    "for produto in lista_produtos:\n",
    "    print(produto)"
   ]
  },
  {
   "cell_type": "code",
   "execution_count": 5,
   "metadata": {},
   "outputs": [],
   "source": [
    "class Individuo():\n",
    "    def __init__(self, espacos, valores, limite_esoacos, geracao=0):\n",
    "        self.espacos = espacos\n",
    "        self.valores = valores\n",
    "        self.limite_espacos = limite_esoacos\n",
    "        self.geracao = geracao\n",
    "        self.nota_avaliacao = 0\n",
    "        self.espaco_usado = 0\n",
    "        self.cromossomo = []\n",
    "\n",
    "        for i in range(len(espacos)):\n",
    "            if random() < 0.5:\n",
    "                self.cromossomo.append('0')\n",
    "            else:\n",
    "                self.cromossomo.append('1')\n",
    "    \n",
    "    def avaliacao(self):\n",
    "        nota = 0 \n",
    "        soma_espacos = 0\n",
    "        for i in range(len(self.cromossomo)):\n",
    "            if self.cromossomo[i] == '1':\n",
    "                nota += self.valores[i]\n",
    "                soma_espacos += self.espacos[i]\n",
    "        \n",
    "        if soma_espacos > self.limite_espacos:\n",
    "            nota = 1\n",
    "\n",
    "        self.nota_avaliacao = nota\n",
    "        self.espaco_usado = soma_espacos\n",
    "    \n",
    "    def crossover(self, outro_individuo):\n",
    "        corte = round(random() * len(self.cromossomo))\n",
    "        \n",
    "        filho1 = outro_individuo.cromossomo[0:corte] + self.cromossomo[corte::]\n",
    "        filho2 = self.cromossomo[0:corte] + outro_individuo.cromossomo[corte::]\n",
    "\n",
    "        filhos = [Individuo(self.espacos, self.valores, self.limite_espacos, self.geracao + 1),\n",
    "                  Individuo(self.espacos, self.valores, self.limite_espacos, self.geracao + 1)]\n",
    "\n",
    "        filhos[0].cromossomo = filho1\n",
    "        filhos[1].cromossomo = filho2\n",
    "        \n",
    "        return filhos\n",
    "\n",
    "    def mutacao(self, taxa_mutacao):\n",
    "        #print('Antes %s' % self.cromossomo)\n",
    "        for i in range(len(self.cromossomo)):\n",
    "            if random() < taxa_mutacao:\n",
    "                if self.cromossomo[i] =='1':\n",
    "                    self.cromossomo[i] = '0'\n",
    "                else:\n",
    "                    self.cromossomo[i] = '1'\n",
    "        \n",
    "        #print('Depois %s' % self.cromossomo)\n",
    "        return self\n"
   ]
  },
  {
   "cell_type": "code",
   "execution_count": 6,
   "metadata": {},
   "outputs": [],
   "source": [
    "class AlgoritimoGenetico():\n",
    "    def __init__(self, tamanho_populacao):\n",
    "        self.tamanho_populacao = tamanho_populacao\n",
    "        self.populacao = []\n",
    "        self.geracao = 0\n",
    "        self.melhor_solucao = 0\n",
    "\n",
    "    def inicializa_populacao(self, espacos, valores, limite_espacos):\n",
    "        for i in range(self.tamanho_populacao):\n",
    "            self.populacao.append(Individuo(espacos, valores, limite_espacos))\n",
    "        self.melhor_solucao = self.populacao[0]\n",
    "    \n",
    "    def ordena_populacao(self):\n",
    "        self.populacao = sorted(self.populacao, \n",
    "                                key = lambda populacao: populacao.nota_avaliacao, \n",
    "                                reverse=True)\n",
    "\n",
    "    def melhor_individuo(self, individuo):\n",
    "        if individuo.nota_avaliacao > self.melhor_solucao.nota_avaliacao:\n",
    "            self.melhor_solucao = individuo\n",
    "    \n",
    "    def soma_avaliacoes(self):\n",
    "        soma = 0 \n",
    "        for individuo in self.populacao:\n",
    "            soma += individuo.nota_avaliacao\n",
    "        \n",
    "        return soma\n",
    "    \n",
    "    def seleciona_pai(self, soma_avaliacao):\n",
    "        pai = -1\n",
    "        valor_sorteado = random()*soma_avaliacao\n",
    "        soma = 0 \n",
    "        i = 0 \n",
    "        while i < len(self.populacao) and soma < valor_sorteado:\n",
    "            soma += self.populacao[i].nota_avaliacao\n",
    "            pai += 1 \n",
    "            i += 1\n",
    "        \n",
    "        return pai\n"
   ]
  },
  {
   "cell_type": "code",
   "execution_count": 7,
   "metadata": {},
   "outputs": [],
   "source": [
    "espacos = []\n",
    "valores = []\n",
    "nomes = []\n",
    "for produto in lista_produtos:\n",
    "    espacos.append(produto.espaco)\n",
    "    valores.append(produto.valor)\n",
    "    nomes.append(produto.nome)"
   ]
  },
  {
   "cell_type": "code",
   "execution_count": 8,
   "metadata": {},
   "outputs": [
    {
     "name": "stdout",
     "output_type": "stream",
     "text": [
      "[0.751, 8.99e-05, 0.4, 0.29, 0.2, 0.0035, 0.496, 0.0424, 0.0544, 0.0319, 0.635, 0.87, 0.498, 0.527]\n",
      "[999.9, 2911.12, 4346.99, 3999.9, 2999.9, 2499.9, 199.9, 308.66, 429.9, 299.29, 849.0, 1199.89, 1999.9, 3999.9]\n",
      "['Geladeira Dako', 'Iphone 6', 'TV 55', 'TV 50', 'TV 42', 'Notebook Dell', 'Ventilador Panasonic', 'Microondas Eletrolux', 'Microondas LG', 'Microondas Panasonic', 'Geladeira Brastemp', 'Geladeira Consul', 'Notebook Lenovo', 'Notebook Asus']\n"
     ]
    },
    {
     "data": {
      "text/plain": [
       "(None, None, None)"
      ]
     },
     "execution_count": 8,
     "metadata": {},
     "output_type": "execute_result"
    }
   ],
   "source": [
    "print(espacos), print(valores), print(nomes)"
   ]
  },
  {
   "cell_type": "code",
   "execution_count": 9,
   "metadata": {},
   "outputs": [],
   "source": [
    "limite = 3\n",
    "\n",
    "individuo1 = Individuo(espacos, valores, limite)"
   ]
  },
  {
   "cell_type": "code",
   "execution_count": 10,
   "metadata": {},
   "outputs": [
    {
     "name": "stdout",
     "output_type": "stream",
     "text": [
      "Espaços = [0.751, 8.99e-05, 0.4, 0.29, 0.2, 0.0035, 0.496, 0.0424, 0.0544, 0.0319, 0.635, 0.87, 0.498, 0.527]\n",
      "Valores = [999.9, 2911.12, 4346.99, 3999.9, 2999.9, 2499.9, 199.9, 308.66, 429.9, 299.29, 849.0, 1199.89, 1999.9, 3999.9]\n",
      "Cromossomo = ['1', '0', '0', '0', '1', '1', '0', '1', '0', '0', '1', '0', '1', '0']\n"
     ]
    }
   ],
   "source": [
    "print('Espaços = %s' % str(individuo1.espacos))\n",
    "print('Valores = %s' % str(individuo1.valores))\n",
    "print('Cromossomo = %s' % str(individuo1.cromossomo))"
   ]
  },
  {
   "cell_type": "code",
   "execution_count": 11,
   "metadata": {},
   "outputs": [
    {
     "name": "stdout",
     "output_type": "stream",
     "text": [
      "Componentes da carga\n",
      "Nome: Geladeira Dako R$ 999.9 \n",
      "Nome: TV 42 R$ 2999.9 \n",
      "Nome: Notebook Dell R$ 2499.9 \n",
      "Nome: Microondas Eletrolux R$ 308.66 \n",
      "Nome: Geladeira Brastemp R$ 849.0 \n",
      "Nome: Notebook Lenovo R$ 1999.9 \n"
     ]
    }
   ],
   "source": [
    "print('Componentes da carga')\n",
    "for i in range(len(lista_produtos)):\n",
    "    if individuo1.cromossomo[i] == '1':\n",
    "        print('Nome: %s R$ %s ' % (lista_produtos[i].nome, lista_produtos[i].valor))"
   ]
  },
  {
   "cell_type": "code",
   "execution_count": 12,
   "metadata": {},
   "outputs": [],
   "source": [
    "individuo1.avaliacao()"
   ]
  },
  {
   "cell_type": "code",
   "execution_count": 13,
   "metadata": {},
   "outputs": [
    {
     "name": "stdout",
     "output_type": "stream",
     "text": [
      "Nota: 9657.26 \n",
      "Espaço usado: 2.1299 \n"
     ]
    }
   ],
   "source": [
    "print('Nota: %s ' % (individuo1.nota_avaliacao))\n",
    "print('Espaço usado: %s ' % (individuo1.espaco_usado))"
   ]
  },
  {
   "cell_type": "code",
   "execution_count": 14,
   "metadata": {},
   "outputs": [
    {
     "name": "stdout",
     "output_type": "stream",
     "text": [
      "\n",
      "Individuo 1\n",
      "Componentes da carga\n",
      "Nome: Geladeira Dako R$ 999.9 \n",
      "Nome: TV 42 R$ 2999.9 \n",
      "Nome: Notebook Dell R$ 2499.9 \n",
      "Nome: Microondas Eletrolux R$ 308.66 \n",
      "Nome: Geladeira Brastemp R$ 849.0 \n",
      "Nome: Notebook Lenovo R$ 1999.9 \n",
      "Nota: 9657.26 \n",
      "Espaço usado: 2.1299 \n"
     ]
    }
   ],
   "source": [
    "print('\\nIndividuo 1')\n",
    "print('Componentes da carga')\n",
    "for i in range(len(lista_produtos)):\n",
    "    if individuo1.cromossomo[i] == '1':\n",
    "        print('Nome: %s R$ %s ' % (lista_produtos[i].nome, lista_produtos[i].valor))\n",
    "individuo1.avaliacao()\n",
    "print('Nota: %s ' % (individuo1.nota_avaliacao))\n",
    "print('Espaço usado: %s ' % (individuo1.espaco_usado))"
   ]
  },
  {
   "cell_type": "code",
   "execution_count": 15,
   "metadata": {},
   "outputs": [],
   "source": [
    "individuo2 = Individuo(espacos, valores, limite)"
   ]
  },
  {
   "cell_type": "code",
   "execution_count": 16,
   "metadata": {},
   "outputs": [],
   "source": [
    "individuo2.avaliacao()"
   ]
  },
  {
   "cell_type": "code",
   "execution_count": 17,
   "metadata": {},
   "outputs": [
    {
     "name": "stdout",
     "output_type": "stream",
     "text": [
      "\n",
      "Individuo 2\n",
      "Componentes da carga\n",
      "Nome: Geladeira Dako R$ 999.9 \n",
      "Nome: Iphone 6 R$ 2911.12 \n",
      "Nome: TV 50 R$ 3999.9 \n",
      "Nome: TV 42 R$ 2999.9 \n",
      "Nome: Notebook Dell R$ 2499.9 \n",
      "Nome: Microondas Eletrolux R$ 308.66 \n",
      "Nome: Microondas LG R$ 429.9 \n",
      "Nome: Geladeira Consul R$ 1199.89 \n",
      "Nota: 15349.169999999998 \n",
      "Espaço usado: 2.2113899 \n"
     ]
    }
   ],
   "source": [
    "print('\\nIndividuo 2')\n",
    "print('Componentes da carga')\n",
    "for i in range(len(lista_produtos)):\n",
    "    if individuo2.cromossomo[i] == '1':\n",
    "        print('Nome: %s R$ %s ' % (lista_produtos[i].nome, lista_produtos[i].valor))\n",
    "individuo1.avaliacao()\n",
    "print('Nota: %s ' % (individuo2.nota_avaliacao))\n",
    "print('Espaço usado: %s ' % (individuo2.espaco_usado))"
   ]
  },
  {
   "cell_type": "code",
   "execution_count": 18,
   "metadata": {},
   "outputs": [
    {
     "data": {
      "text/plain": [
       "<__main__.Individuo at 0x1c369c1fd00>"
      ]
     },
     "execution_count": 18,
     "metadata": {},
     "output_type": "execute_result"
    }
   ],
   "source": [
    "individuo1.mutacao(0.05)\n",
    "individuo2.mutacao(0.05)"
   ]
  },
  {
   "cell_type": "code",
   "execution_count": 19,
   "metadata": {},
   "outputs": [
    {
     "name": "stdout",
     "output_type": "stream",
     "text": [
      "*** Individuo 0*** \n",
      " Espaços = [0.751, 8.99e-05, 0.4, 0.29, 0.2, 0.0035, 0.496, 0.0424, 0.0544, 0.0319, 0.635, 0.87, 0.498, 0.527] \n",
      " Valores = [999.9, 2911.12, 4346.99, 3999.9, 2999.9, 2499.9, 199.9, 308.66, 429.9, 299.29, 849.0, 1199.89, 1999.9, 3999.9] \n",
      " Cromossomo = ['0', '1', '1', '1', '1', '1', '0', '0', '0', '0', '0', '0', '1', '0'] \n",
      " Nota = 18757.710000000003 \n",
      "\n",
      "*** Individuo 1*** \n",
      " Espaços = [0.751, 8.99e-05, 0.4, 0.29, 0.2, 0.0035, 0.496, 0.0424, 0.0544, 0.0319, 0.635, 0.87, 0.498, 0.527] \n",
      " Valores = [999.9, 2911.12, 4346.99, 3999.9, 2999.9, 2499.9, 199.9, 308.66, 429.9, 299.29, 849.0, 1199.89, 1999.9, 3999.9] \n",
      " Cromossomo = ['1', '1', '1', '1', '0', '1', '0', '1', '1', '1', '0', '0', '1', '0'] \n",
      " Nota = 17795.56 \n",
      "\n",
      "*** Individuo 2*** \n",
      " Espaços = [0.751, 8.99e-05, 0.4, 0.29, 0.2, 0.0035, 0.496, 0.0424, 0.0544, 0.0319, 0.635, 0.87, 0.498, 0.527] \n",
      " Valores = [999.9, 2911.12, 4346.99, 3999.9, 2999.9, 2499.9, 199.9, 308.66, 429.9, 299.29, 849.0, 1199.89, 1999.9, 3999.9] \n",
      " Cromossomo = ['0', '1', '1', '0', '1', '0', '0', '0', '1', '0', '0', '0', '1', '1'] \n",
      " Nota = 16687.71 \n",
      "\n",
      "*** Individuo 3*** \n",
      " Espaços = [0.751, 8.99e-05, 0.4, 0.29, 0.2, 0.0035, 0.496, 0.0424, 0.0544, 0.0319, 0.635, 0.87, 0.498, 0.527] \n",
      " Valores = [999.9, 2911.12, 4346.99, 3999.9, 2999.9, 2499.9, 199.9, 308.66, 429.9, 299.29, 849.0, 1199.89, 1999.9, 3999.9] \n",
      " Cromossomo = ['0', '1', '1', '0', '0', '1', '0', '1', '0', '1', '1', '1', '0', '1'] \n",
      " Nota = 16414.75 \n",
      "\n",
      "*** Individuo 4*** \n",
      " Espaços = [0.751, 8.99e-05, 0.4, 0.29, 0.2, 0.0035, 0.496, 0.0424, 0.0544, 0.0319, 0.635, 0.87, 0.498, 0.527] \n",
      " Valores = [999.9, 2911.12, 4346.99, 3999.9, 2999.9, 2499.9, 199.9, 308.66, 429.9, 299.29, 849.0, 1199.89, 1999.9, 3999.9] \n",
      " Cromossomo = ['0', '0', '1', '0', '1', '1', '1', '1', '0', '0', '0', '1', '1', '0'] \n",
      " Nota = 13555.139999999998 \n",
      "\n",
      "*** Individuo 5*** \n",
      " Espaços = [0.751, 8.99e-05, 0.4, 0.29, 0.2, 0.0035, 0.496, 0.0424, 0.0544, 0.0319, 0.635, 0.87, 0.498, 0.527] \n",
      " Valores = [999.9, 2911.12, 4346.99, 3999.9, 2999.9, 2499.9, 199.9, 308.66, 429.9, 299.29, 849.0, 1199.89, 1999.9, 3999.9] \n",
      " Cromossomo = ['1', '0', '0', '1', '1', '1', '1', '0', '1', '0', '0', '0', '1', '0'] \n",
      " Nota = 13129.3 \n",
      "\n",
      "*** Individuo 6*** \n",
      " Espaços = [0.751, 8.99e-05, 0.4, 0.29, 0.2, 0.0035, 0.496, 0.0424, 0.0544, 0.0319, 0.635, 0.87, 0.498, 0.527] \n",
      " Valores = [999.9, 2911.12, 4346.99, 3999.9, 2999.9, 2499.9, 199.9, 308.66, 429.9, 299.29, 849.0, 1199.89, 1999.9, 3999.9] \n",
      " Cromossomo = ['0', '0', '0', '1', '0', '1', '1', '0', '0', '1', '1', '1', '0', '1'] \n",
      " Nota = 13047.779999999999 \n",
      "\n",
      "*** Individuo 7*** \n",
      " Espaços = [0.751, 8.99e-05, 0.4, 0.29, 0.2, 0.0035, 0.496, 0.0424, 0.0544, 0.0319, 0.635, 0.87, 0.498, 0.527] \n",
      " Valores = [999.9, 2911.12, 4346.99, 3999.9, 2999.9, 2499.9, 199.9, 308.66, 429.9, 299.29, 849.0, 1199.89, 1999.9, 3999.9] \n",
      " Cromossomo = ['1', '1', '0', '0', '0', '1', '1', '1', '1', '0', '0', '1', '0', '1'] \n",
      " Nota = 12549.169999999998 \n",
      "\n",
      "*** Individuo 8*** \n",
      " Espaços = [0.751, 8.99e-05, 0.4, 0.29, 0.2, 0.0035, 0.496, 0.0424, 0.0544, 0.0319, 0.635, 0.87, 0.498, 0.527] \n",
      " Valores = [999.9, 2911.12, 4346.99, 3999.9, 2999.9, 2499.9, 199.9, 308.66, 429.9, 299.29, 849.0, 1199.89, 1999.9, 3999.9] \n",
      " Cromossomo = ['1', '1', '0', '0', '1', '0', '0', '0', '1', '0', '0', '0', '0', '1'] \n",
      " Nota = 11340.72 \n",
      "\n",
      "*** Individuo 9*** \n",
      " Espaços = [0.751, 8.99e-05, 0.4, 0.29, 0.2, 0.0035, 0.496, 0.0424, 0.0544, 0.0319, 0.635, 0.87, 0.498, 0.527] \n",
      " Valores = [999.9, 2911.12, 4346.99, 3999.9, 2999.9, 2499.9, 199.9, 308.66, 429.9, 299.29, 849.0, 1199.89, 1999.9, 3999.9] \n",
      " Cromossomo = ['1', '1', '0', '0', '1', '1', '1', '0', '1', '0', '0', '1', '0', '0'] \n",
      " Nota = 11240.509999999998 \n",
      "\n",
      "*** Individuo 10*** \n",
      " Espaços = [0.751, 8.99e-05, 0.4, 0.29, 0.2, 0.0035, 0.496, 0.0424, 0.0544, 0.0319, 0.635, 0.87, 0.498, 0.527] \n",
      " Valores = [999.9, 2911.12, 4346.99, 3999.9, 2999.9, 2499.9, 199.9, 308.66, 429.9, 299.29, 849.0, 1199.89, 1999.9, 3999.9] \n",
      " Cromossomo = ['1', '0', '1', '0', '0', '0', '0', '1', '1', '1', '1', '0', '0', '1'] \n",
      " Nota = 11233.64 \n",
      "\n",
      "*** Individuo 11*** \n",
      " Espaços = [0.751, 8.99e-05, 0.4, 0.29, 0.2, 0.0035, 0.496, 0.0424, 0.0544, 0.0319, 0.635, 0.87, 0.498, 0.527] \n",
      " Valores = [999.9, 2911.12, 4346.99, 3999.9, 2999.9, 2499.9, 199.9, 308.66, 429.9, 299.29, 849.0, 1199.89, 1999.9, 3999.9] \n",
      " Cromossomo = ['0', '1', '0', '0', '1', '1', '1', '1', '0', '0', '0', '0', '1', '0'] \n",
      " Nota = 10919.38 \n",
      "\n",
      "*** Individuo 12*** \n",
      " Espaços = [0.751, 8.99e-05, 0.4, 0.29, 0.2, 0.0035, 0.496, 0.0424, 0.0544, 0.0319, 0.635, 0.87, 0.498, 0.527] \n",
      " Valores = [999.9, 2911.12, 4346.99, 3999.9, 2999.9, 2499.9, 199.9, 308.66, 429.9, 299.29, 849.0, 1199.89, 1999.9, 3999.9] \n",
      " Cromossomo = ['0', '0', '1', '0', '0', '1', '1', '1', '0', '1', '0', '1', '1', '0'] \n",
      " Nota = 10854.529999999999 \n",
      "\n",
      "*** Individuo 13*** \n",
      " Espaços = [0.751, 8.99e-05, 0.4, 0.29, 0.2, 0.0035, 0.496, 0.0424, 0.0544, 0.0319, 0.635, 0.87, 0.498, 0.527] \n",
      " Valores = [999.9, 2911.12, 4346.99, 3999.9, 2999.9, 2499.9, 199.9, 308.66, 429.9, 299.29, 849.0, 1199.89, 1999.9, 3999.9] \n",
      " Cromossomo = ['1', '1', '0', '0', '1', '0', '0', '1', '0', '0', '0', '1', '1', '0'] \n",
      " Nota = 10419.369999999999 \n",
      "\n",
      "*** Individuo 14*** \n",
      " Espaços = [0.751, 8.99e-05, 0.4, 0.29, 0.2, 0.0035, 0.496, 0.0424, 0.0544, 0.0319, 0.635, 0.87, 0.498, 0.527] \n",
      " Valores = [999.9, 2911.12, 4346.99, 3999.9, 2999.9, 2499.9, 199.9, 308.66, 429.9, 299.29, 849.0, 1199.89, 1999.9, 3999.9] \n",
      " Cromossomo = ['0', '0', '0', '1', '0', '0', '1', '0', '0', '1', '1', '0', '0', '1'] \n",
      " Nota = 9347.99 \n",
      "\n",
      "*** Individuo 15*** \n",
      " Espaços = [0.751, 8.99e-05, 0.4, 0.29, 0.2, 0.0035, 0.496, 0.0424, 0.0544, 0.0319, 0.635, 0.87, 0.498, 0.527] \n",
      " Valores = [999.9, 2911.12, 4346.99, 3999.9, 2999.9, 2499.9, 199.9, 308.66, 429.9, 299.29, 849.0, 1199.89, 1999.9, 3999.9] \n",
      " Cromossomo = ['0', '1', '0', '0', '0', '1', '0', '0', '1', '0', '1', '1', '0', '0'] \n",
      " Nota = 7889.81 \n",
      "\n",
      "*** Individuo 16*** \n",
      " Espaços = [0.751, 8.99e-05, 0.4, 0.29, 0.2, 0.0035, 0.496, 0.0424, 0.0544, 0.0319, 0.635, 0.87, 0.498, 0.527] \n",
      " Valores = [999.9, 2911.12, 4346.99, 3999.9, 2999.9, 2499.9, 199.9, 308.66, 429.9, 299.29, 849.0, 1199.89, 1999.9, 3999.9] \n",
      " Cromossomo = ['1', '0', '1', '1', '1', '1', '1', '1', '1', '1', '1', '1', '1', '0'] \n",
      " Nota = 1 \n",
      "\n",
      "*** Individuo 17*** \n",
      " Espaços = [0.751, 8.99e-05, 0.4, 0.29, 0.2, 0.0035, 0.496, 0.0424, 0.0544, 0.0319, 0.635, 0.87, 0.498, 0.527] \n",
      " Valores = [999.9, 2911.12, 4346.99, 3999.9, 2999.9, 2499.9, 199.9, 308.66, 429.9, 299.29, 849.0, 1199.89, 1999.9, 3999.9] \n",
      " Cromossomo = ['1', '0', '1', '1', '1', '1', '1', '0', '0', '0', '0', '1', '1', '1'] \n",
      " Nota = 1 \n",
      "\n",
      "*** Individuo 18*** \n",
      " Espaços = [0.751, 8.99e-05, 0.4, 0.29, 0.2, 0.0035, 0.496, 0.0424, 0.0544, 0.0319, 0.635, 0.87, 0.498, 0.527] \n",
      " Valores = [999.9, 2911.12, 4346.99, 3999.9, 2999.9, 2499.9, 199.9, 308.66, 429.9, 299.29, 849.0, 1199.89, 1999.9, 3999.9] \n",
      " Cromossomo = ['0', '0', '1', '0', '1', '1', '1', '1', '1', '0', '1', '1', '1', '1'] \n",
      " Nota = 1 \n",
      "\n",
      "*** Individuo 19*** \n",
      " Espaços = [0.751, 8.99e-05, 0.4, 0.29, 0.2, 0.0035, 0.496, 0.0424, 0.0544, 0.0319, 0.635, 0.87, 0.498, 0.527] \n",
      " Valores = [999.9, 2911.12, 4346.99, 3999.9, 2999.9, 2499.9, 199.9, 308.66, 429.9, 299.29, 849.0, 1199.89, 1999.9, 3999.9] \n",
      " Cromossomo = ['0', '0', '1', '0', '0', '0', '1', '1', '1', '0', '1', '1', '1', '1'] \n",
      " Nota = 1 \n",
      "\n"
     ]
    }
   ],
   "source": [
    "tamanho_populacao = 20\n",
    "ag = AlgoritimoGenetico(tamanho_populacao)\n",
    "ag.inicializa_populacao(espacos, valores, limite)\n",
    "\n",
    "for individuo in ag.populacao:\n",
    "    individuo.avaliacao()\n",
    "\n",
    "ag.ordena_populacao()\n",
    "\n",
    "for i in range(ag.tamanho_populacao):\n",
    "    print('*** Individuo %s*** \\n' % i,\n",
    "          'Espaços = %s \\n' % str(ag.populacao[i].espacos), \n",
    "          'Valores = %s \\n' % str(ag.populacao[i].valores),\n",
    "          'Cromossomo = %s \\n' % str(ag.populacao[i].cromossomo),\n",
    "          'Nota = %s \\n' % str(ag.populacao[i].nota_avaliacao)\n",
    "           )"
   ]
  },
  {
   "cell_type": "code",
   "execution_count": 20,
   "metadata": {},
   "outputs": [
    {
     "name": "stdout",
     "output_type": "stream",
     "text": [
      "Melhor Solução para o probema: ['0', '1', '1', '0', '1', '1', '0', '1', '1', '0', '1', '1', '0', '1'] Nota =  19545.26\n"
     ]
    }
   ],
   "source": [
    "tamanho_populacao = 20\n",
    "ag = AlgoritimoGenetico(tamanho_populacao)\n",
    "ag.inicializa_populacao(espacos, valores, limite)\n",
    "\n",
    "for individuo in ag.populacao:\n",
    "    individuo.avaliacao()\n",
    "\n",
    "ag.ordena_populacao()\n",
    "ag.melhor_individuo(ag.populacao[0])\n",
    "print('Melhor Solução para o probema: %s' % ag.melhor_solucao.cromossomo,\n",
    "      'Nota =  %s' % ag.melhor_solucao.nota_avaliacao\n",
    "     )"
   ]
  },
  {
   "cell_type": "code",
   "execution_count": 21,
   "metadata": {},
   "outputs": [
    {
     "name": "stdout",
     "output_type": "stream",
     "text": [
      "Soma =  120425.29999999999\n"
     ]
    }
   ],
   "source": [
    "tamanho_populacao = 20\n",
    "ag = AlgoritimoGenetico(tamanho_populacao)\n",
    "ag.inicializa_populacao(espacos, valores, limite)\n",
    "\n",
    "for individuo in ag.populacao:\n",
    "    individuo.avaliacao()\n",
    "\n",
    "ag.ordena_populacao()\n",
    "ag.melhor_individuo(ag.populacao[0])\n",
    "soma = ag.soma_avaliacoes()\n",
    "\n",
    "print('Soma =  %s' % soma)"
   ]
  },
  {
   "cell_type": "code",
   "execution_count": 25,
   "metadata": {},
   "outputs": [
    {
     "ename": "AttributeError",
     "evalue": "'list' object has no attribute 'nota_avaliacao'",
     "output_type": "error",
     "traceback": [
      "\u001b[1;31m---------------------------------------------------------------------------\u001b[0m",
      "\u001b[1;31mAttributeError\u001b[0m                            Traceback (most recent call last)",
      "\u001b[1;32m<ipython-input-25-5252e257bccf>\u001b[0m in \u001b[0;36m<module>\u001b[1;34m\u001b[0m\n\u001b[0;32m     27\u001b[0m \u001b[1;33m\u001b[0m\u001b[0m\n\u001b[0;32m     28\u001b[0m \u001b[0mag\u001b[0m\u001b[1;33m.\u001b[0m\u001b[0mordena_populacao\u001b[0m\u001b[1;33m(\u001b[0m\u001b[1;33m)\u001b[0m\u001b[1;33m\u001b[0m\u001b[1;33m\u001b[0m\u001b[0m\n\u001b[1;32m---> 29\u001b[1;33m \u001b[0mag\u001b[0m\u001b[1;33m.\u001b[0m\u001b[0mmelhor_individuo\u001b[0m\u001b[1;33m(\u001b[0m\u001b[0mag\u001b[0m\u001b[1;33m.\u001b[0m\u001b[0mpopulacao\u001b[0m\u001b[1;33m)\u001b[0m\u001b[1;33m\u001b[0m\u001b[1;33m\u001b[0m\u001b[0m\n\u001b[0m\u001b[0;32m     30\u001b[0m \u001b[0msoma\u001b[0m \u001b[1;33m=\u001b[0m \u001b[0mag\u001b[0m\u001b[1;33m.\u001b[0m\u001b[0msoma_avaliacoes\u001b[0m\u001b[1;33m(\u001b[0m\u001b[1;33m)\u001b[0m\u001b[1;33m\u001b[0m\u001b[1;33m\u001b[0m\u001b[0m\n\u001b[0;32m     31\u001b[0m \u001b[1;33m\u001b[0m\u001b[0m\n",
      "\u001b[1;32m<ipython-input-6-26236aaa896b>\u001b[0m in \u001b[0;36mmelhor_individuo\u001b[1;34m(self, individuo)\u001b[0m\n\u001b[0;32m     17\u001b[0m \u001b[1;33m\u001b[0m\u001b[0m\n\u001b[0;32m     18\u001b[0m     \u001b[1;32mdef\u001b[0m \u001b[0mmelhor_individuo\u001b[0m\u001b[1;33m(\u001b[0m\u001b[0mself\u001b[0m\u001b[1;33m,\u001b[0m \u001b[0mindividuo\u001b[0m\u001b[1;33m)\u001b[0m\u001b[1;33m:\u001b[0m\u001b[1;33m\u001b[0m\u001b[1;33m\u001b[0m\u001b[0m\n\u001b[1;32m---> 19\u001b[1;33m         \u001b[1;32mif\u001b[0m \u001b[0mindividuo\u001b[0m\u001b[1;33m.\u001b[0m\u001b[0mnota_avaliacao\u001b[0m \u001b[1;33m>\u001b[0m \u001b[0mself\u001b[0m\u001b[1;33m.\u001b[0m\u001b[0mmelhor_solucao\u001b[0m\u001b[1;33m.\u001b[0m\u001b[0mnota_avaliacao\u001b[0m\u001b[1;33m:\u001b[0m\u001b[1;33m\u001b[0m\u001b[1;33m\u001b[0m\u001b[0m\n\u001b[0m\u001b[0;32m     20\u001b[0m             \u001b[0mself\u001b[0m\u001b[1;33m.\u001b[0m\u001b[0mmelhor_solucao\u001b[0m \u001b[1;33m=\u001b[0m \u001b[0mindividuo\u001b[0m\u001b[1;33m\u001b[0m\u001b[1;33m\u001b[0m\u001b[0m\n\u001b[0;32m     21\u001b[0m \u001b[1;33m\u001b[0m\u001b[0m\n",
      "\u001b[1;31mAttributeError\u001b[0m: 'list' object has no attribute 'nota_avaliacao'"
     ]
    }
   ],
   "source": [
    "tamanho_populacao = 20\n",
    "ag = AlgoritimoGenetico(tamanho_populacao)\n",
    "ag.inicializa_populacao(espacos, valores, limite)\n",
    "\n",
    "for individuo in ag.populacao:\n",
    "    individuo.avaliacao()\n",
    "\n",
    "ag.ordena_populacao()\n",
    "ag.melhor_individuo(ag.populacao[0])\n",
    "soma = ag.soma_avaliacoes()\n",
    "\n",
    "nova_populacao = []\n",
    "probabilidade_mutacao = 0.01\n",
    "\n",
    "for individuo_gerados in range(0, ag.tamanho_populacao, 2):\n",
    "    pai1 = ag.seleciona_pai(soma)\n",
    "    pai2 = ag.seleciona_pai(soma)\n",
    "\n",
    "    filhos = ag.populacao[pai1].crossover(ag.populacao[pai2])\n",
    "    nova_populacao.append(filhos[0].mutacao(probabilidade_mutacao))\n",
    "    nova_populacao.append(filhos[1].mutacao(probabilidade_mutacao))\n",
    "\n",
    "ag.populacao = list(nova_populacao)\n",
    "\n",
    "for individuo in ag.populacao:\n",
    "    individuo.avaliacao()\n",
    "\n",
    "ag.ordena_populacao()\n",
    "ag.melhor_individuo(ag.populacao)\n",
    "soma = ag.soma_avaliacoes()\n",
    "\n",
    "print('Melhor: %s' % ag.melhor_solucao.cromossomo, \n",
    "       'Valor: %s \\n' % ag.melhor_solucao.nota_avaliacao)"
   ]
  },
  {
   "cell_type": "code",
   "execution_count": null,
   "metadata": {},
   "outputs": [],
   "source": []
  }
 ],
 "metadata": {
  "interpreter": {
   "hash": "b3ba2566441a7c06988d0923437866b63cedc61552a5af99d1f4fb67d367b25f"
  },
  "kernelspec": {
   "display_name": "Python 3.8.8 ('base')",
   "language": "python",
   "name": "python3"
  },
  "language_info": {
   "codemirror_mode": {
    "name": "ipython",
    "version": 3
   },
   "file_extension": ".py",
   "mimetype": "text/x-python",
   "name": "python",
   "nbconvert_exporter": "python",
   "pygments_lexer": "ipython3",
   "version": "3.8.8"
  },
  "orig_nbformat": 4
 },
 "nbformat": 4,
 "nbformat_minor": 2
}
