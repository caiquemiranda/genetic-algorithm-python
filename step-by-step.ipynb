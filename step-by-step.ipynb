{
 "cells": [
  {
   "cell_type": "markdown",
   "metadata": {},
   "source": [
    "### Problema\n",
    "\n",
    "Em uma trasnportadora com caminhoes de espaço interno do baú de 3m³ temos que alocar produtos que em sua soma total ocupam 4.79m³, qual melhor alocação de produtos para gerar o maior lucro, tendo em mente ocupar os caminhão com os produtos com maior lucro?"
   ]
  },
  {
   "cell_type": "code",
   "execution_count": 17,
   "metadata": {},
   "outputs": [],
   "source": [
    "from random import random"
   ]
  },
  {
   "cell_type": "code",
   "execution_count": 4,
   "metadata": {},
   "outputs": [],
   "source": [
    "class Produto():\n",
    "    def __init__(self, nome, espaco, valor):\n",
    "        self.nome = nome\n",
    "        self.espaco = espaco\n",
    "        self.valor = valor       "
   ]
  },
  {
   "cell_type": "code",
   "execution_count": 5,
   "metadata": {},
   "outputs": [],
   "source": [
    "lista_produtos = []\n",
    "lista_produtos.append(Produto('Geladeira Dako', 0.751, 999.90))\n",
    "lista_produtos.append(Produto('Iphone 6', 0.0000899, 2911.12))\n",
    "lista_produtos.append(Produto('TV 55', 0.400, 4346.99))\n",
    "lista_produtos.append(Produto('TV 50', 0.290, 3999.90))\n",
    "lista_produtos.append(Produto('TV 42', 0.200, 2999.90))\n",
    "lista_produtos.append(Produto('Notebook Dell', 0.00350, 2499.90))\n",
    "lista_produtos.append(Produto('Ventilador Panasonic', 0.496, 199.90))\n",
    "lista_produtos.append(Produto('Microondas Eletrolux', 0.0424, 308.66))\n",
    "lista_produtos.append(Produto('Microondas LG', 0.0544, 429.90))\n",
    "lista_produtos.append(Produto('Microondas Panasonic', 0.0319, 299.29))\n",
    "lista_produtos.append(Produto('Geladeira Brastemp', 0.635, 849.00))\n",
    "lista_produtos.append(Produto('Geladeira Consul', 0.870, 1199.89))\n",
    "lista_produtos.append(Produto('Notebook Lenovo', 0.498, 1999.90))\n",
    "lista_produtos.append(Produto('Notebook Asus', 0.527, 3999.90))"
   ]
  },
  {
   "cell_type": "code",
   "execution_count": null,
   "metadata": {},
   "outputs": [],
   "source": [
    "for produto in lista_produtos:\n",
    "    print(produto)"
   ]
  },
  {
   "cell_type": "code",
   "execution_count": 60,
   "metadata": {},
   "outputs": [],
   "source": [
    "class Individuo():\n",
    "    def __init__(self, espacos, valores, limite_esoacos, geracao=0):\n",
    "        self.espacos = espacos\n",
    "        self.valores = valores\n",
    "        self.limite_espacos = limite_esoacos\n",
    "        self.geracao = geracao\n",
    "        self.nota_avaliacao = 0\n",
    "        self.espaco_usado = 0\n",
    "        self.cromossomo = []\n",
    "\n",
    "        for i in range(len(espacos)):\n",
    "            if random() < 0.5:\n",
    "                self.cromossomo.append('0')\n",
    "            else:\n",
    "                self.cromossomo.append('1')\n",
    "    \n",
    "    def avaliacao(self):\n",
    "        nota = 0 \n",
    "        soma_espacos = 0\n",
    "        for i in range(len(self.cromossomo)):\n",
    "            if self.cromossomo[i] == '1':\n",
    "                nota += self.valores[i]\n",
    "                soma_espacos += self.espacos[i]\n",
    "        \n",
    "        if soma_espacos > self.limite_espacos:\n",
    "            nota = 1\n",
    "\n",
    "        self.nota_avaliacao = nota\n",
    "        self.espaco_usado = soma_espacos"
   ]
  },
  {
   "cell_type": "code",
   "execution_count": 61,
   "metadata": {},
   "outputs": [],
   "source": [
    "espacos = []\n",
    "valores = []\n",
    "nomes = []\n",
    "for produto in lista_produtos:\n",
    "    espacos.append(produto.espaco)\n",
    "    valores.append(produto.valor)\n",
    "    nomes.append(produto.nome)"
   ]
  },
  {
   "cell_type": "code",
   "execution_count": 62,
   "metadata": {},
   "outputs": [
    {
     "name": "stdout",
     "output_type": "stream",
     "text": [
      "[0.751, 8.99e-05, 0.4, 0.29, 0.2, 0.0035, 0.496, 0.0424, 0.0544, 0.0319, 0.635, 0.87, 0.498, 0.527]\n",
      "[999.9, 2911.12, 4346.99, 3999.9, 2999.9, 2499.9, 199.9, 308.66, 429.9, 299.29, 849.0, 1199.89, 1999.9, 3999.9]\n",
      "['Geladeira Dako', 'Iphone 6', 'TV 55', 'TV 50', 'TV 42', 'Notebook Dell', 'Ventilador Panasonic', 'Microondas Eletrolux', 'Microondas LG', 'Microondas Panasonic', 'Geladeira Brastemp', 'Geladeira Consul', 'Notebook Lenovo', 'Notebook Asus']\n"
     ]
    },
    {
     "data": {
      "text/plain": [
       "(None, None, None)"
      ]
     },
     "execution_count": 62,
     "metadata": {},
     "output_type": "execute_result"
    }
   ],
   "source": [
    "print(espacos), print(valores), print(nomes)"
   ]
  },
  {
   "cell_type": "code",
   "execution_count": 68,
   "metadata": {},
   "outputs": [],
   "source": [
    "limite = 3\n",
    "\n",
    "individuo1 = Individuo(espacos, valores, limite)"
   ]
  },
  {
   "cell_type": "code",
   "execution_count": 69,
   "metadata": {},
   "outputs": [
    {
     "name": "stdout",
     "output_type": "stream",
     "text": [
      "Espaços = [0.751, 8.99e-05, 0.4, 0.29, 0.2, 0.0035, 0.496, 0.0424, 0.0544, 0.0319, 0.635, 0.87, 0.498, 0.527]\n",
      "Valores = [999.9, 2911.12, 4346.99, 3999.9, 2999.9, 2499.9, 199.9, 308.66, 429.9, 299.29, 849.0, 1199.89, 1999.9, 3999.9]\n",
      "Cromossomo = ['0', '1', '1', '1', '0', '1', '0', '0', '0', '1', '0', '1', '1', '0']\n"
     ]
    }
   ],
   "source": [
    "print('Espaços = %s' % str(individuo1.espacos))\n",
    "print('Valores = %s' % str(individuo1.valores))\n",
    "print('Cromossomo = %s' % str(individuo1.cromossomo))"
   ]
  },
  {
   "cell_type": "code",
   "execution_count": 70,
   "metadata": {},
   "outputs": [
    {
     "name": "stdout",
     "output_type": "stream",
     "text": [
      "Componentes da carga\n",
      "Nome: Iphone 6 R$ 2911.12 \n",
      "Nome: TV 55 R$ 4346.99 \n",
      "Nome: TV 50 R$ 3999.9 \n",
      "Nome: Notebook Dell R$ 2499.9 \n",
      "Nome: Microondas Panasonic R$ 299.29 \n",
      "Nome: Geladeira Consul R$ 1199.89 \n",
      "Nome: Notebook Lenovo R$ 1999.9 \n"
     ]
    }
   ],
   "source": [
    "print('Componentes da carga')\n",
    "for i in range(len(lista_produtos)):\n",
    "    if individuo1.cromossomo[i] == '1':\n",
    "        print('Nome: %s R$ %s ' % (lista_produtos[i].nome, lista_produtos[i].valor))"
   ]
  },
  {
   "cell_type": "code",
   "execution_count": 71,
   "metadata": {},
   "outputs": [],
   "source": [
    "individuo1.avaliacao()"
   ]
  },
  {
   "cell_type": "code",
   "execution_count": 72,
   "metadata": {},
   "outputs": [
    {
     "name": "stdout",
     "output_type": "stream",
     "text": [
      "Nota: 17256.99 \n",
      "Espaço usado: 2.0934899 \n"
     ]
    }
   ],
   "source": [
    "print('Nota: %s ' % (individuo1.nota_avaliacao))\n",
    "print('Espaço usado: %s ' % (individuo1.espaco_usado))"
   ]
  },
  {
   "cell_type": "code",
   "execution_count": null,
   "metadata": {},
   "outputs": [],
   "source": []
  }
 ],
 "metadata": {
  "interpreter": {
   "hash": "b3ba2566441a7c06988d0923437866b63cedc61552a5af99d1f4fb67d367b25f"
  },
  "kernelspec": {
   "display_name": "Python 3.8.8 ('base')",
   "language": "python",
   "name": "python3"
  },
  "language_info": {
   "codemirror_mode": {
    "name": "ipython",
    "version": 3
   },
   "file_extension": ".py",
   "mimetype": "text/x-python",
   "name": "python",
   "nbconvert_exporter": "python",
   "pygments_lexer": "ipython3",
   "version": "3.8.8"
  },
  "orig_nbformat": 4
 },
 "nbformat": 4,
 "nbformat_minor": 2
}
